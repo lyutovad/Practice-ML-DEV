{
 "cells": [
  {
   "cell_type": "code",
   "execution_count": 1,
   "id": "7c0b8c21",
   "metadata": {},
   "outputs": [],
   "source": [
    "import pandas as pd\n",
    "from tqdm.notebook import tqdm\n",
    "tqdm.pandas()\n",
    "\n",
    "import matplotlib.pyplot as plt\n",
    "import seaborn as sb\n",
    "%matplotlib inline\n",
    "\n",
    "from sklearn.preprocessing import StandardScaler\n",
    "from sklearn.model_selection import train_test_split\n",
    "from sklearn.linear_model import LogisticRegression\n",
    "from sklearn.metrics import classification_report, accuracy_score\n",
    "from sklearn.ensemble import RandomForestClassifier\n",
    "import lightgbm as lgb\n",
    "\n",
    "import joblib"
   ]
  },
  {
   "cell_type": "code",
   "execution_count": 2,
   "id": "9b0ae688",
   "metadata": {},
   "outputs": [],
   "source": [
    "df = pd.read_csv('TCGA_GBM_LGG_Mutations_all.csv')"
   ]
  },
  {
   "cell_type": "code",
   "execution_count": 3,
   "id": "6f46549f",
   "metadata": {},
   "outputs": [
    {
     "data": {
      "text/html": [
       "<div>\n",
       "<style scoped>\n",
       "    .dataframe tbody tr th:only-of-type {\n",
       "        vertical-align: middle;\n",
       "    }\n",
       "\n",
       "    .dataframe tbody tr th {\n",
       "        vertical-align: top;\n",
       "    }\n",
       "\n",
       "    .dataframe thead th {\n",
       "        text-align: right;\n",
       "    }\n",
       "</style>\n",
       "<table border=\"1\" class=\"dataframe\">\n",
       "  <thead>\n",
       "    <tr style=\"text-align: right;\">\n",
       "      <th></th>\n",
       "      <th>Grade</th>\n",
       "      <th>Project</th>\n",
       "      <th>Case_ID</th>\n",
       "      <th>Gender</th>\n",
       "      <th>Age_at_diagnosis</th>\n",
       "      <th>Primary_Diagnosis</th>\n",
       "      <th>Race</th>\n",
       "      <th>IDH1</th>\n",
       "      <th>TP53</th>\n",
       "      <th>ATRX</th>\n",
       "      <th>...</th>\n",
       "      <th>FUBP1</th>\n",
       "      <th>RB1</th>\n",
       "      <th>NOTCH1</th>\n",
       "      <th>BCOR</th>\n",
       "      <th>CSMD3</th>\n",
       "      <th>SMARCA4</th>\n",
       "      <th>GRIN2A</th>\n",
       "      <th>IDH2</th>\n",
       "      <th>FAT4</th>\n",
       "      <th>PDGFRA</th>\n",
       "    </tr>\n",
       "  </thead>\n",
       "  <tbody>\n",
       "    <tr>\n",
       "      <th>789</th>\n",
       "      <td>GBM</td>\n",
       "      <td>TCGA-GBM</td>\n",
       "      <td>TCGA-02-2466</td>\n",
       "      <td>Male</td>\n",
       "      <td>61 years 177 days</td>\n",
       "      <td>Glioblastoma</td>\n",
       "      <td>white</td>\n",
       "      <td>NOT_MUTATED</td>\n",
       "      <td>NOT_MUTATED</td>\n",
       "      <td>NOT_MUTATED</td>\n",
       "      <td>...</td>\n",
       "      <td>NOT_MUTATED</td>\n",
       "      <td>NOT_MUTATED</td>\n",
       "      <td>NOT_MUTATED</td>\n",
       "      <td>NOT_MUTATED</td>\n",
       "      <td>MUTATED</td>\n",
       "      <td>MUTATED</td>\n",
       "      <td>NOT_MUTATED</td>\n",
       "      <td>NOT_MUTATED</td>\n",
       "      <td>NOT_MUTATED</td>\n",
       "      <td>NOT_MUTATED</td>\n",
       "    </tr>\n",
       "    <tr>\n",
       "      <th>776</th>\n",
       "      <td>GBM</td>\n",
       "      <td>TCGA-GBM</td>\n",
       "      <td>TCGA-12-0829</td>\n",
       "      <td>Male</td>\n",
       "      <td>75 years 78 days</td>\n",
       "      <td>Glioblastoma</td>\n",
       "      <td>black or african american</td>\n",
       "      <td>NOT_MUTATED</td>\n",
       "      <td>NOT_MUTATED</td>\n",
       "      <td>NOT_MUTATED</td>\n",
       "      <td>...</td>\n",
       "      <td>NOT_MUTATED</td>\n",
       "      <td>NOT_MUTATED</td>\n",
       "      <td>NOT_MUTATED</td>\n",
       "      <td>NOT_MUTATED</td>\n",
       "      <td>NOT_MUTATED</td>\n",
       "      <td>NOT_MUTATED</td>\n",
       "      <td>NOT_MUTATED</td>\n",
       "      <td>NOT_MUTATED</td>\n",
       "      <td>NOT_MUTATED</td>\n",
       "      <td>NOT_MUTATED</td>\n",
       "    </tr>\n",
       "    <tr>\n",
       "      <th>126</th>\n",
       "      <td>LGG</td>\n",
       "      <td>TCGA-LGG</td>\n",
       "      <td>TCGA-HT-7474</td>\n",
       "      <td>Male</td>\n",
       "      <td>52 years 156 days</td>\n",
       "      <td>Mixed glioma</td>\n",
       "      <td>white</td>\n",
       "      <td>MUTATED</td>\n",
       "      <td>MUTATED</td>\n",
       "      <td>MUTATED</td>\n",
       "      <td>...</td>\n",
       "      <td>NOT_MUTATED</td>\n",
       "      <td>NOT_MUTATED</td>\n",
       "      <td>NOT_MUTATED</td>\n",
       "      <td>NOT_MUTATED</td>\n",
       "      <td>NOT_MUTATED</td>\n",
       "      <td>NOT_MUTATED</td>\n",
       "      <td>NOT_MUTATED</td>\n",
       "      <td>NOT_MUTATED</td>\n",
       "      <td>NOT_MUTATED</td>\n",
       "      <td>NOT_MUTATED</td>\n",
       "    </tr>\n",
       "    <tr>\n",
       "      <th>95</th>\n",
       "      <td>LGG</td>\n",
       "      <td>TCGA-LGG</td>\n",
       "      <td>TCGA-S9-A6WL</td>\n",
       "      <td>Male</td>\n",
       "      <td>52 years 241 days</td>\n",
       "      <td>Astrocytoma, anaplastic</td>\n",
       "      <td>white</td>\n",
       "      <td>MUTATED</td>\n",
       "      <td>NOT_MUTATED</td>\n",
       "      <td>NOT_MUTATED</td>\n",
       "      <td>...</td>\n",
       "      <td>NOT_MUTATED</td>\n",
       "      <td>NOT_MUTATED</td>\n",
       "      <td>NOT_MUTATED</td>\n",
       "      <td>MUTATED</td>\n",
       "      <td>NOT_MUTATED</td>\n",
       "      <td>NOT_MUTATED</td>\n",
       "      <td>NOT_MUTATED</td>\n",
       "      <td>NOT_MUTATED</td>\n",
       "      <td>NOT_MUTATED</td>\n",
       "      <td>NOT_MUTATED</td>\n",
       "    </tr>\n",
       "    <tr>\n",
       "      <th>369</th>\n",
       "      <td>LGG</td>\n",
       "      <td>TCGA-LGG</td>\n",
       "      <td>TCGA-RY-A83X</td>\n",
       "      <td>Female</td>\n",
       "      <td>46 years 110 days</td>\n",
       "      <td>Oligodendroglioma, NOS</td>\n",
       "      <td>white</td>\n",
       "      <td>MUTATED</td>\n",
       "      <td>NOT_MUTATED</td>\n",
       "      <td>NOT_MUTATED</td>\n",
       "      <td>...</td>\n",
       "      <td>NOT_MUTATED</td>\n",
       "      <td>NOT_MUTATED</td>\n",
       "      <td>NOT_MUTATED</td>\n",
       "      <td>NOT_MUTATED</td>\n",
       "      <td>NOT_MUTATED</td>\n",
       "      <td>NOT_MUTATED</td>\n",
       "      <td>NOT_MUTATED</td>\n",
       "      <td>NOT_MUTATED</td>\n",
       "      <td>NOT_MUTATED</td>\n",
       "      <td>NOT_MUTATED</td>\n",
       "    </tr>\n",
       "  </tbody>\n",
       "</table>\n",
       "<p>5 rows × 27 columns</p>\n",
       "</div>"
      ],
      "text/plain": [
       "    Grade   Project       Case_ID  Gender   Age_at_diagnosis  \\\n",
       "789   GBM  TCGA-GBM  TCGA-02-2466    Male  61 years 177 days   \n",
       "776   GBM  TCGA-GBM  TCGA-12-0829    Male   75 years 78 days   \n",
       "126   LGG  TCGA-LGG  TCGA-HT-7474    Male  52 years 156 days   \n",
       "95    LGG  TCGA-LGG  TCGA-S9-A6WL    Male  52 years 241 days   \n",
       "369   LGG  TCGA-LGG  TCGA-RY-A83X  Female  46 years 110 days   \n",
       "\n",
       "           Primary_Diagnosis                       Race         IDH1  \\\n",
       "789             Glioblastoma                      white  NOT_MUTATED   \n",
       "776             Glioblastoma  black or african american  NOT_MUTATED   \n",
       "126             Mixed glioma                      white      MUTATED   \n",
       "95   Astrocytoma, anaplastic                      white      MUTATED   \n",
       "369   Oligodendroglioma, NOS                      white      MUTATED   \n",
       "\n",
       "            TP53         ATRX  ...        FUBP1          RB1       NOTCH1  \\\n",
       "789  NOT_MUTATED  NOT_MUTATED  ...  NOT_MUTATED  NOT_MUTATED  NOT_MUTATED   \n",
       "776  NOT_MUTATED  NOT_MUTATED  ...  NOT_MUTATED  NOT_MUTATED  NOT_MUTATED   \n",
       "126      MUTATED      MUTATED  ...  NOT_MUTATED  NOT_MUTATED  NOT_MUTATED   \n",
       "95   NOT_MUTATED  NOT_MUTATED  ...  NOT_MUTATED  NOT_MUTATED  NOT_MUTATED   \n",
       "369  NOT_MUTATED  NOT_MUTATED  ...  NOT_MUTATED  NOT_MUTATED  NOT_MUTATED   \n",
       "\n",
       "            BCOR        CSMD3      SMARCA4       GRIN2A         IDH2  \\\n",
       "789  NOT_MUTATED      MUTATED      MUTATED  NOT_MUTATED  NOT_MUTATED   \n",
       "776  NOT_MUTATED  NOT_MUTATED  NOT_MUTATED  NOT_MUTATED  NOT_MUTATED   \n",
       "126  NOT_MUTATED  NOT_MUTATED  NOT_MUTATED  NOT_MUTATED  NOT_MUTATED   \n",
       "95       MUTATED  NOT_MUTATED  NOT_MUTATED  NOT_MUTATED  NOT_MUTATED   \n",
       "369  NOT_MUTATED  NOT_MUTATED  NOT_MUTATED  NOT_MUTATED  NOT_MUTATED   \n",
       "\n",
       "            FAT4       PDGFRA  \n",
       "789  NOT_MUTATED  NOT_MUTATED  \n",
       "776  NOT_MUTATED  NOT_MUTATED  \n",
       "126  NOT_MUTATED  NOT_MUTATED  \n",
       "95   NOT_MUTATED  NOT_MUTATED  \n",
       "369  NOT_MUTATED  NOT_MUTATED  \n",
       "\n",
       "[5 rows x 27 columns]"
      ]
     },
     "execution_count": 3,
     "metadata": {},
     "output_type": "execute_result"
    }
   ],
   "source": [
    "df.sample(5)"
   ]
  },
  {
   "cell_type": "code",
   "execution_count": 4,
   "id": "f49c50fd",
   "metadata": {},
   "outputs": [
    {
     "name": "stdout",
     "output_type": "stream",
     "text": [
      "<class 'pandas.core.frame.DataFrame'>\n",
      "RangeIndex: 862 entries, 0 to 861\n",
      "Data columns (total 27 columns):\n",
      " #   Column             Non-Null Count  Dtype \n",
      "---  ------             --------------  ----- \n",
      " 0   Grade              862 non-null    object\n",
      " 1   Project            862 non-null    object\n",
      " 2   Case_ID            862 non-null    object\n",
      " 3   Gender             862 non-null    object\n",
      " 4   Age_at_diagnosis   862 non-null    object\n",
      " 5   Primary_Diagnosis  862 non-null    object\n",
      " 6   Race               862 non-null    object\n",
      " 7   IDH1               862 non-null    object\n",
      " 8   TP53               862 non-null    object\n",
      " 9   ATRX               862 non-null    object\n",
      " 10  PTEN               862 non-null    object\n",
      " 11  EGFR               862 non-null    object\n",
      " 12  CIC                862 non-null    object\n",
      " 13  MUC16              862 non-null    object\n",
      " 14  PIK3CA             862 non-null    object\n",
      " 15  NF1                862 non-null    object\n",
      " 16  PIK3R1             862 non-null    object\n",
      " 17  FUBP1              862 non-null    object\n",
      " 18  RB1                862 non-null    object\n",
      " 19  NOTCH1             862 non-null    object\n",
      " 20  BCOR               862 non-null    object\n",
      " 21  CSMD3              862 non-null    object\n",
      " 22  SMARCA4            862 non-null    object\n",
      " 23  GRIN2A             862 non-null    object\n",
      " 24  IDH2               862 non-null    object\n",
      " 25  FAT4               862 non-null    object\n",
      " 26  PDGFRA             862 non-null    object\n",
      "dtypes: object(27)\n",
      "memory usage: 182.0+ KB\n"
     ]
    }
   ],
   "source": [
    "df.info()"
   ]
  },
  {
   "cell_type": "markdown",
   "id": "a7f4bb14",
   "metadata": {},
   "source": [
    "## EDA"
   ]
  },
  {
   "cell_type": "markdown",
   "id": "70df0140",
   "metadata": {},
   "source": [
    "### Целевая переменнная Grade"
   ]
  },
  {
   "cell_type": "code",
   "execution_count": 5,
   "id": "be106837",
   "metadata": {},
   "outputs": [
    {
     "data": {
      "text/plain": [
       "LGG    499\n",
       "GBM    363\n",
       "Name: Grade, dtype: int64"
      ]
     },
     "execution_count": 5,
     "metadata": {},
     "output_type": "execute_result"
    }
   ],
   "source": [
    "df.Grade.value_counts()"
   ]
  },
  {
   "cell_type": "markdown",
   "id": "0bf65a32",
   "metadata": {},
   "source": [
    "Дисбаланса классов нет."
   ]
  },
  {
   "cell_type": "markdown",
   "id": "6dcc0396",
   "metadata": {},
   "source": [
    "### Project"
   ]
  },
  {
   "cell_type": "code",
   "execution_count": 6,
   "id": "4c289ff8",
   "metadata": {},
   "outputs": [
    {
     "data": {
      "text/plain": [
       "TCGA-LGG    499\n",
       "TCGA-GBM    363\n",
       "Name: Project, dtype: int64"
      ]
     },
     "execution_count": 6,
     "metadata": {},
     "output_type": "execute_result"
    }
   ],
   "source": [
    "df.Project.value_counts()"
   ]
  },
  {
   "cell_type": "markdown",
   "id": "e3a02f52",
   "metadata": {},
   "source": [
    "Предполагаю, что именно здесь утечка данных, т.к. параметр полностью повторяет целевую переменную. Для чистоты метрик его надо удалить."
   ]
  },
  {
   "cell_type": "markdown",
   "id": "ddc3450b",
   "metadata": {},
   "source": [
    "### Case_ID"
   ]
  },
  {
   "cell_type": "code",
   "execution_count": 7,
   "id": "bc69eb77",
   "metadata": {},
   "outputs": [
    {
     "data": {
      "text/plain": [
       "TCGA-DU-8164    1\n",
       "TCGA-19-1786    1\n",
       "TCGA-28-5219    1\n",
       "TCGA-14-1455    1\n",
       "TCGA-41-2575    1\n",
       "               ..\n",
       "TCGA-FG-6689    1\n",
       "TCGA-HT-8013    1\n",
       "TCGA-HT-A616    1\n",
       "TCGA-DU-7008    1\n",
       "TCGA-06-2557    1\n",
       "Name: Case_ID, Length: 862, dtype: int64"
      ]
     },
     "execution_count": 7,
     "metadata": {},
     "output_type": "execute_result"
    }
   ],
   "source": [
    "df.Case_ID.value_counts()"
   ]
  },
  {
   "cell_type": "markdown",
   "id": "add8e9c0",
   "metadata": {},
   "source": [
    "Вероятно, это номер истории болезни пациента в рамках проекта и информации он не несет. Столбец также для удаления.\n",
    "\n",
    "Однако, любопытно посмотреть на распределение второй группы в этом номере."
   ]
  },
  {
   "cell_type": "code",
   "execution_count": 8,
   "id": "c90c176a",
   "metadata": {},
   "outputs": [
    {
     "data": {
      "text/plain": [
       "06    111\n",
       "HT     98\n",
       "DU     81\n",
       "S9     47\n",
       "12     41\n",
       "FG     40\n",
       "19     34\n",
       "DB     34\n",
       "14     33\n",
       "E1     29\n",
       "28     27\n",
       "76     24\n",
       "P5     24\n",
       "QH     21\n",
       "32     21\n",
       "TM     19\n",
       "CS     19\n",
       "TQ     17\n",
       "27     16\n",
       "DH     15\n",
       "HW     14\n",
       "26     11\n",
       "41     10\n",
       "02      9\n",
       "16      8\n",
       "VM      8\n",
       "WY      7\n",
       "RY      7\n",
       "74      6\n",
       "R8      5\n",
       "4W      3\n",
       "RR      3\n",
       "15      2\n",
       "IK      2\n",
       "81      2\n",
       "F6      2\n",
       "VV      2\n",
       "KT      2\n",
       "VW      2\n",
       "W9      1\n",
       "EZ      1\n",
       "WH      1\n",
       "FN      1\n",
       "OX      1\n",
       "87      1\n",
       "Name: Case_ID, dtype: int64"
      ]
     },
     "execution_count": 8,
     "metadata": {},
     "output_type": "execute_result"
    }
   ],
   "source": [
    "df.Case_ID.apply(lambda x: x.split('-')[1]).value_counts()"
   ]
  },
  {
   "cell_type": "code",
   "execution_count": 9,
   "id": "3acb4f40",
   "metadata": {},
   "outputs": [
    {
     "data": {
      "text/plain": [
       "45"
      ]
     },
     "execution_count": 9,
     "metadata": {},
     "output_type": "execute_result"
    }
   ],
   "source": [
    "len(df.Case_ID.apply(lambda x: x.split('-')[1]).value_counts())"
   ]
  },
  {
   "cell_type": "markdown",
   "id": "eb79f75a",
   "metadata": {},
   "source": [
    "Возможно, тут может что-то быть зашифровано, но перевод в label задаст отношение порядка между переменными. А OHE даст очень сильную разреженность, что нежелательно для этих данных, т.к. наблюдений и так очень небольшое количество.\n",
    "\n",
    "Этот признак также удаляем."
   ]
  },
  {
   "cell_type": "markdown",
   "id": "4bdb7bcc",
   "metadata": {},
   "source": [
    "### Gender"
   ]
  },
  {
   "cell_type": "code",
   "execution_count": 10,
   "id": "1f70ebb5",
   "metadata": {},
   "outputs": [
    {
     "data": {
      "text/plain": [
       "Male      499\n",
       "Female    359\n",
       "--          4\n",
       "Name: Gender, dtype: int64"
      ]
     },
     "execution_count": 10,
     "metadata": {},
     "output_type": "execute_result"
    }
   ],
   "source": [
    "df.Gender.value_counts()"
   ]
  },
  {
   "cell_type": "markdown",
   "id": "e1ccea3d",
   "metadata": {},
   "source": [
    "Ничего не будем делать с отсутвующими данными. Оставим иx нулем."
   ]
  },
  {
   "cell_type": "markdown",
   "id": "130b0122",
   "metadata": {},
   "source": [
    "### Age_at_diagnosis"
   ]
  },
  {
   "cell_type": "code",
   "execution_count": 11,
   "id": "ac2243a2",
   "metadata": {},
   "outputs": [
    {
     "data": {
      "text/plain": [
       "--                   5\n",
       "64 years 298 days    3\n",
       "38 years 203 days    2\n",
       "52 years 156 days    2\n",
       "30 years 32 days     2\n",
       "                    ..\n",
       "36 years 73 days     1\n",
       "41 years 314 days    1\n",
       "57 years 201 days    1\n",
       "52 years 243 days    1\n",
       "76 years 221 days    1\n",
       "Name: Age_at_diagnosis, Length: 838, dtype: int64"
      ]
     },
     "execution_count": 11,
     "metadata": {},
     "output_type": "execute_result"
    }
   ],
   "source": [
    "df.Age_at_diagnosis.value_counts()"
   ]
  },
  {
   "cell_type": "markdown",
   "id": "eff47828",
   "metadata": {},
   "source": [
    "Заменим возраст днями и посмотрим распределение."
   ]
  },
  {
   "cell_type": "code",
   "execution_count": 12,
   "id": "96064958",
   "metadata": {},
   "outputs": [],
   "source": [
    "def get_days(age):\n",
    "    if age == '--':\n",
    "        return 0\n",
    "    else:\n",
    "        if len(age.split()) == 2:\n",
    "            years = int(age.split()[0])\n",
    "            return years * 365 + years//4\n",
    "        else:\n",
    "            years = int(age.split()[0])\n",
    "            days = int(age.split()[2])\n",
    "            return years * 365 + days + years//4"
   ]
  },
  {
   "cell_type": "code",
   "execution_count": 13,
   "id": "ee8c26ea",
   "metadata": {},
   "outputs": [
    {
     "data": {
      "application/vnd.jupyter.widget-view+json": {
       "model_id": "f9134842e7024194ae3d360deb655811",
       "version_major": 2,
       "version_minor": 0
      },
      "text/plain": [
       "  0%|          | 0/862 [00:00<?, ?it/s]"
      ]
     },
     "metadata": {},
     "output_type": "display_data"
    }
   ],
   "source": [
    "df['Days_at_diagnosis'] = df.Age_at_diagnosis.progress_apply(get_days)"
   ]
  },
  {
   "cell_type": "code",
   "execution_count": 14,
   "id": "aaf27ecf",
   "metadata": {},
   "outputs": [
    {
     "data": {
      "image/png": "[encoded data removed]",
      "text/plain": [
       "<Figure size 640x480 with 1 Axes>"
      ]
     },
     "metadata": {},
     "output_type": "display_data"
    }
   ],
   "source": [
    "sb.histplot(df['Days_at_diagnosis'], bins=50);"
   ]
  },
  {
   "cell_type": "code",
   "execution_count": 15,
   "id": "a1a000c6",
   "metadata": {},
   "outputs": [
    {
     "data": {
      "text/plain": [
       "18769.5"
      ]
     },
     "execution_count": 15,
     "metadata": {},
     "output_type": "execute_result"
    }
   ],
   "source": [
    "df['Days_at_diagnosis'].median()"
   ]
  },
  {
   "cell_type": "markdown",
   "id": "742314d5",
   "metadata": {},
   "source": [
    "Нули можно заменить медианой. Столбец Age_at_diagnosis удаляем, оставляем дни."
   ]
  },
  {
   "cell_type": "markdown",
   "id": "30a7a6ee",
   "metadata": {},
   "source": [
    "### Primary_Diagnosis"
   ]
  },
  {
   "cell_type": "code",
   "execution_count": 16,
   "id": "3d5d31de",
   "metadata": {},
   "outputs": [
    {
     "data": {
      "text/plain": [
       "Glioblastoma                     360\n",
       "Astrocytoma, anaplastic          129\n",
       "Mixed glioma                     128\n",
       "Oligodendroglioma, NOS           108\n",
       "Oligodendroglioma, anaplastic     75\n",
       "Astrocytoma, NOS                  58\n",
       "--                                 4\n",
       "Name: Primary_Diagnosis, dtype: int64"
      ]
     },
     "execution_count": 16,
     "metadata": {},
     "output_type": "execute_result"
    }
   ],
   "source": [
    "df.Primary_Diagnosis.value_counts()"
   ]
  },
  {
   "cell_type": "code",
   "execution_count": 17,
   "id": "f80ec5f4",
   "metadata": {},
   "outputs": [
    {
     "data": {
      "text/html": [
       "<div>\n",
       "<style scoped>\n",
       "    .dataframe tbody tr th:only-of-type {\n",
       "        vertical-align: middle;\n",
       "    }\n",
       "\n",
       "    .dataframe tbody tr th {\n",
       "        vertical-align: top;\n",
       "    }\n",
       "\n",
       "    .dataframe thead th {\n",
       "        text-align: right;\n",
       "    }\n",
       "</style>\n",
       "<table border=\"1\" class=\"dataframe\">\n",
       "  <thead>\n",
       "    <tr style=\"text-align: right;\">\n",
       "      <th></th>\n",
       "      <th>Grade</th>\n",
       "      <th>Project</th>\n",
       "      <th>Case_ID</th>\n",
       "      <th>Gender</th>\n",
       "      <th>Age_at_diagnosis</th>\n",
       "      <th>Primary_Diagnosis</th>\n",
       "      <th>Race</th>\n",
       "      <th>IDH1</th>\n",
       "      <th>TP53</th>\n",
       "      <th>ATRX</th>\n",
       "      <th>...</th>\n",
       "      <th>RB1</th>\n",
       "      <th>NOTCH1</th>\n",
       "      <th>BCOR</th>\n",
       "      <th>CSMD3</th>\n",
       "      <th>SMARCA4</th>\n",
       "      <th>GRIN2A</th>\n",
       "      <th>IDH2</th>\n",
       "      <th>FAT4</th>\n",
       "      <th>PDGFRA</th>\n",
       "      <th>Days_at_diagnosis</th>\n",
       "    </tr>\n",
       "  </thead>\n",
       "  <tbody>\n",
       "    <tr>\n",
       "      <th>41</th>\n",
       "      <td>LGG</td>\n",
       "      <td>TCGA-LGG</td>\n",
       "      <td>TCGA-R8-A6YH</td>\n",
       "      <td>--</td>\n",
       "      <td>--</td>\n",
       "      <td>--</td>\n",
       "      <td>--</td>\n",
       "      <td>MUTATED</td>\n",
       "      <td>MUTATED</td>\n",
       "      <td>MUTATED</td>\n",
       "      <td>...</td>\n",
       "      <td>NOT_MUTATED</td>\n",
       "      <td>NOT_MUTATED</td>\n",
       "      <td>NOT_MUTATED</td>\n",
       "      <td>NOT_MUTATED</td>\n",
       "      <td>NOT_MUTATED</td>\n",
       "      <td>NOT_MUTATED</td>\n",
       "      <td>NOT_MUTATED</td>\n",
       "      <td>NOT_MUTATED</td>\n",
       "      <td>NOT_MUTATED</td>\n",
       "      <td>0</td>\n",
       "    </tr>\n",
       "    <tr>\n",
       "      <th>671</th>\n",
       "      <td>GBM</td>\n",
       "      <td>TCGA-GBM</td>\n",
       "      <td>TCGA-28-2501</td>\n",
       "      <td>--</td>\n",
       "      <td>--</td>\n",
       "      <td>--</td>\n",
       "      <td>--</td>\n",
       "      <td>NOT_MUTATED</td>\n",
       "      <td>NOT_MUTATED</td>\n",
       "      <td>NOT_MUTATED</td>\n",
       "      <td>...</td>\n",
       "      <td>NOT_MUTATED</td>\n",
       "      <td>NOT_MUTATED</td>\n",
       "      <td>NOT_MUTATED</td>\n",
       "      <td>NOT_MUTATED</td>\n",
       "      <td>NOT_MUTATED</td>\n",
       "      <td>NOT_MUTATED</td>\n",
       "      <td>NOT_MUTATED</td>\n",
       "      <td>NOT_MUTATED</td>\n",
       "      <td>NOT_MUTATED</td>\n",
       "      <td>0</td>\n",
       "    </tr>\n",
       "    <tr>\n",
       "      <th>706</th>\n",
       "      <td>GBM</td>\n",
       "      <td>TCGA-GBM</td>\n",
       "      <td>TCGA-28-2510</td>\n",
       "      <td>--</td>\n",
       "      <td>--</td>\n",
       "      <td>--</td>\n",
       "      <td>--</td>\n",
       "      <td>NOT_MUTATED</td>\n",
       "      <td>NOT_MUTATED</td>\n",
       "      <td>NOT_MUTATED</td>\n",
       "      <td>...</td>\n",
       "      <td>NOT_MUTATED</td>\n",
       "      <td>NOT_MUTATED</td>\n",
       "      <td>NOT_MUTATED</td>\n",
       "      <td>NOT_MUTATED</td>\n",
       "      <td>NOT_MUTATED</td>\n",
       "      <td>NOT_MUTATED</td>\n",
       "      <td>NOT_MUTATED</td>\n",
       "      <td>NOT_MUTATED</td>\n",
       "      <td>NOT_MUTATED</td>\n",
       "      <td>0</td>\n",
       "    </tr>\n",
       "    <tr>\n",
       "      <th>794</th>\n",
       "      <td>GBM</td>\n",
       "      <td>TCGA-GBM</td>\n",
       "      <td>TCGA-16-1048</td>\n",
       "      <td>--</td>\n",
       "      <td>--</td>\n",
       "      <td>--</td>\n",
       "      <td>--</td>\n",
       "      <td>NOT_MUTATED</td>\n",
       "      <td>NOT_MUTATED</td>\n",
       "      <td>NOT_MUTATED</td>\n",
       "      <td>...</td>\n",
       "      <td>NOT_MUTATED</td>\n",
       "      <td>NOT_MUTATED</td>\n",
       "      <td>NOT_MUTATED</td>\n",
       "      <td>NOT_MUTATED</td>\n",
       "      <td>NOT_MUTATED</td>\n",
       "      <td>NOT_MUTATED</td>\n",
       "      <td>NOT_MUTATED</td>\n",
       "      <td>NOT_MUTATED</td>\n",
       "      <td>NOT_MUTATED</td>\n",
       "      <td>0</td>\n",
       "    </tr>\n",
       "  </tbody>\n",
       "</table>\n",
       "<p>4 rows × 28 columns</p>\n",
       "</div>"
      ],
      "text/plain": [
       "    Grade   Project       Case_ID Gender Age_at_diagnosis Primary_Diagnosis  \\\n",
       "41    LGG  TCGA-LGG  TCGA-R8-A6YH     --               --                --   \n",
       "671   GBM  TCGA-GBM  TCGA-28-2501     --               --                --   \n",
       "706   GBM  TCGA-GBM  TCGA-28-2510     --               --                --   \n",
       "794   GBM  TCGA-GBM  TCGA-16-1048     --               --                --   \n",
       "\n",
       "    Race         IDH1         TP53         ATRX  ...          RB1  \\\n",
       "41    --      MUTATED      MUTATED      MUTATED  ...  NOT_MUTATED   \n",
       "671   --  NOT_MUTATED  NOT_MUTATED  NOT_MUTATED  ...  NOT_MUTATED   \n",
       "706   --  NOT_MUTATED  NOT_MUTATED  NOT_MUTATED  ...  NOT_MUTATED   \n",
       "794   --  NOT_MUTATED  NOT_MUTATED  NOT_MUTATED  ...  NOT_MUTATED   \n",
       "\n",
       "          NOTCH1         BCOR        CSMD3      SMARCA4       GRIN2A  \\\n",
       "41   NOT_MUTATED  NOT_MUTATED  NOT_MUTATED  NOT_MUTATED  NOT_MUTATED   \n",
       "671  NOT_MUTATED  NOT_MUTATED  NOT_MUTATED  NOT_MUTATED  NOT_MUTATED   \n",
       "706  NOT_MUTATED  NOT_MUTATED  NOT_MUTATED  NOT_MUTATED  NOT_MUTATED   \n",
       "794  NOT_MUTATED  NOT_MUTATED  NOT_MUTATED  NOT_MUTATED  NOT_MUTATED   \n",
       "\n",
       "            IDH2         FAT4       PDGFRA Days_at_diagnosis  \n",
       "41   NOT_MUTATED  NOT_MUTATED  NOT_MUTATED                 0  \n",
       "671  NOT_MUTATED  NOT_MUTATED  NOT_MUTATED                 0  \n",
       "706  NOT_MUTATED  NOT_MUTATED  NOT_MUTATED                 0  \n",
       "794  NOT_MUTATED  NOT_MUTATED  NOT_MUTATED                 0  \n",
       "\n",
       "[4 rows x 28 columns]"
      ]
     },
     "execution_count": 17,
     "metadata": {},
     "output_type": "execute_result"
    }
   ],
   "source": [
    "df[df.Primary_Diagnosis == '--']"
   ]
  },
  {
   "cell_type": "markdown",
   "id": "13904b0f",
   "metadata": {},
   "source": [
    "4 строки содржат отсутвующие значения в столбцах с возрастом, полом, предварительным диагнозом и рассой. Это могут быть ошибочные данные, поэтому их можно удалить.\n",
    "\n",
    "Второй подход - заменить все данные средними значениями, т.о. получить усредненный результат. Но тут смущает то, что признаки IDH1, TP53, ATRX отличаются в эти строках и таким образом можно внести шум."
   ]
  },
  {
   "cell_type": "code",
   "execution_count": 18,
   "id": "dedebc21",
   "metadata": {},
   "outputs": [],
   "source": [
    "ind = df[df.Primary_Diagnosis == '--'].index"
   ]
  },
  {
   "cell_type": "code",
   "execution_count": 19,
   "id": "1d242d4a",
   "metadata": {},
   "outputs": [],
   "source": [
    "df.drop(index=ind, inplace=True)"
   ]
  },
  {
   "cell_type": "markdown",
   "id": "b1567f43",
   "metadata": {},
   "source": [
    "### Race"
   ]
  },
  {
   "cell_type": "code",
   "execution_count": 20,
   "id": "a7c34b52",
   "metadata": {},
   "outputs": [
    {
     "data": {
      "text/plain": [
       "white                               766\n",
       "black or african american            59\n",
       "not reported                         18\n",
       "asian                                14\n",
       "american indian or alaska native      1\n",
       "Name: Race, dtype: int64"
      ]
     },
     "execution_count": 20,
     "metadata": {},
     "output_type": "execute_result"
    }
   ],
   "source": [
    "df.Race.value_counts()"
   ]
  },
  {
   "cell_type": "markdown",
   "id": "257eff0f",
   "metadata": {},
   "source": [
    "Вероятно эти параметры можно укрупнить до 3 групп, но, предположительно, расса может играть роль в распространении опухоли, можно кодировать данные OHE. С другой стороны, в датасете не так много данных, чтобы добавлять разреженность,и метки могут быть более подходящими для этих данных."
   ]
  },
  {
   "cell_type": "code",
   "execution_count": 21,
   "id": "73899b85",
   "metadata": {},
   "outputs": [
    {
     "data": {
      "text/plain": [
       "18813.5"
      ]
     },
     "execution_count": 21,
     "metadata": {},
     "output_type": "execute_result"
    }
   ],
   "source": [
    "df['Days_at_diagnosis'].median()"
   ]
  },
  {
   "cell_type": "markdown",
   "id": "19d1dd1d",
   "metadata": {},
   "source": [
    "##### Осталась одна строка с отсутствующим значением возраста."
   ]
  },
  {
   "cell_type": "code",
   "execution_count": 22,
   "id": "68a265eb",
   "metadata": {},
   "outputs": [
    {
     "data": {
      "text/html": [
       "<div>\n",
       "<style scoped>\n",
       "    .dataframe tbody tr th:only-of-type {\n",
       "        vertical-align: middle;\n",
       "    }\n",
       "\n",
       "    .dataframe tbody tr th {\n",
       "        vertical-align: top;\n",
       "    }\n",
       "\n",
       "    .dataframe thead th {\n",
       "        text-align: right;\n",
       "    }\n",
       "</style>\n",
       "<table border=\"1\" class=\"dataframe\">\n",
       "  <thead>\n",
       "    <tr style=\"text-align: right;\">\n",
       "      <th></th>\n",
       "      <th>Grade</th>\n",
       "      <th>Project</th>\n",
       "      <th>Case_ID</th>\n",
       "      <th>Gender</th>\n",
       "      <th>Age_at_diagnosis</th>\n",
       "      <th>Primary_Diagnosis</th>\n",
       "      <th>Race</th>\n",
       "      <th>IDH1</th>\n",
       "      <th>TP53</th>\n",
       "      <th>ATRX</th>\n",
       "      <th>...</th>\n",
       "      <th>RB1</th>\n",
       "      <th>NOTCH1</th>\n",
       "      <th>BCOR</th>\n",
       "      <th>CSMD3</th>\n",
       "      <th>SMARCA4</th>\n",
       "      <th>GRIN2A</th>\n",
       "      <th>IDH2</th>\n",
       "      <th>FAT4</th>\n",
       "      <th>PDGFRA</th>\n",
       "      <th>Days_at_diagnosis</th>\n",
       "    </tr>\n",
       "  </thead>\n",
       "  <tbody>\n",
       "    <tr>\n",
       "      <th>437</th>\n",
       "      <td>LGG</td>\n",
       "      <td>TCGA-LGG</td>\n",
       "      <td>TCGA-W9-A837</td>\n",
       "      <td>Male</td>\n",
       "      <td>--</td>\n",
       "      <td>Oligodendroglioma, NOS</td>\n",
       "      <td>white</td>\n",
       "      <td>MUTATED</td>\n",
       "      <td>NOT_MUTATED</td>\n",
       "      <td>NOT_MUTATED</td>\n",
       "      <td>...</td>\n",
       "      <td>NOT_MUTATED</td>\n",
       "      <td>NOT_MUTATED</td>\n",
       "      <td>NOT_MUTATED</td>\n",
       "      <td>NOT_MUTATED</td>\n",
       "      <td>NOT_MUTATED</td>\n",
       "      <td>NOT_MUTATED</td>\n",
       "      <td>NOT_MUTATED</td>\n",
       "      <td>NOT_MUTATED</td>\n",
       "      <td>NOT_MUTATED</td>\n",
       "      <td>0</td>\n",
       "    </tr>\n",
       "  </tbody>\n",
       "</table>\n",
       "<p>1 rows × 28 columns</p>\n",
       "</div>"
      ],
      "text/plain": [
       "    Grade   Project       Case_ID Gender Age_at_diagnosis  \\\n",
       "437   LGG  TCGA-LGG  TCGA-W9-A837   Male               --   \n",
       "\n",
       "          Primary_Diagnosis   Race     IDH1         TP53         ATRX  ...  \\\n",
       "437  Oligodendroglioma, NOS  white  MUTATED  NOT_MUTATED  NOT_MUTATED  ...   \n",
       "\n",
       "             RB1       NOTCH1         BCOR        CSMD3      SMARCA4  \\\n",
       "437  NOT_MUTATED  NOT_MUTATED  NOT_MUTATED  NOT_MUTATED  NOT_MUTATED   \n",
       "\n",
       "          GRIN2A         IDH2         FAT4       PDGFRA Days_at_diagnosis  \n",
       "437  NOT_MUTATED  NOT_MUTATED  NOT_MUTATED  NOT_MUTATED                 0  \n",
       "\n",
       "[1 rows x 28 columns]"
      ]
     },
     "execution_count": 22,
     "metadata": {},
     "output_type": "execute_result"
    }
   ],
   "source": [
    "df[df.Days_at_diagnosis == 0]"
   ]
  },
  {
   "cell_type": "markdown",
   "id": "6c7bff57",
   "metadata": {},
   "source": [
    "Заменим на медиану возраста в группе белых мужчин с аналогичным диагнозом"
   ]
  },
  {
   "cell_type": "code",
   "execution_count": 23,
   "id": "b3c49e48",
   "metadata": {},
   "outputs": [],
   "source": [
    "med = df[(df.Gender == 'Male') & (df.Primary_Diagnosis == 'Oligodendroglioma, NOS') & (df.Race=='white')]['Days_at_diagnosis'].median()"
   ]
  },
  {
   "cell_type": "code",
   "execution_count": 24,
   "id": "80846c17",
   "metadata": {},
   "outputs": [],
   "source": [
    "df.loc[df['Days_at_diagnosis']==0, 'Days_at_diagnosis'] = med"
   ]
  },
  {
   "cell_type": "markdown",
   "id": "7b2acb45",
   "metadata": {},
   "source": [
    "### IDH1, TP53, ATRX, PTEN, EGFR, CIC, MUC16, PIK3CA, NF1, PIK3R1, FUBP1, RB1, NOTCH1, BCOR, CSMD3, SMARCA4, GRIN2A, IDH2, FAT4, mPDGFRA  "
   ]
  },
  {
   "cell_type": "code",
   "execution_count": 25,
   "id": "ad82e1a9",
   "metadata": {},
   "outputs": [],
   "source": [
    "feats = ['IDH1', 'TP53', 'ATRX', 'PTEN', 'EGFR', 'CIC', 'MUC16', 'PIK3CA', 'NF1', 'PIK3R1',\n",
    "         'FUBP1', 'RB1', 'NOTCH1', 'BCOR', 'CSMD3', 'SMARCA4', 'GRIN2A', 'IDH2', 'FAT4', 'PDGFRA',]"
   ]
  },
  {
   "cell_type": "code",
   "execution_count": 26,
   "id": "281afc14",
   "metadata": {},
   "outputs": [
    {
     "name": "stdout",
     "output_type": "stream",
     "text": [
      "NOT_MUTATED    445\n",
      "MUTATED        413\n",
      "Name: IDH1, dtype: int64\n",
      "NOT_MUTATED    505\n",
      "MUTATED        353\n",
      "Name: TP53, dtype: int64\n",
      "NOT_MUTATED    639\n",
      "MUTATED        219\n",
      "Name: ATRX, dtype: int64\n",
      "NOT_MUTATED    715\n",
      "MUTATED        143\n",
      "Name: PTEN, dtype: int64\n",
      "NOT_MUTATED    745\n",
      "MUTATED        113\n",
      "Name: EGFR, dtype: int64\n",
      "NOT_MUTATED    744\n",
      "MUTATED        114\n",
      "Name: CIC, dtype: int64\n",
      "NOT_MUTATED    759\n",
      "MUTATED         99\n",
      "Name: MUC16, dtype: int64\n",
      "NOT_MUTATED    782\n",
      "MUTATED         76\n",
      "Name: PIK3CA, dtype: int64\n",
      "NOT_MUTATED    789\n",
      "MUTATED         69\n",
      "Name: NF1, dtype: int64\n",
      "NOT_MUTATED    801\n",
      "MUTATED         57\n",
      "Name: PIK3R1, dtype: int64\n",
      "NOT_MUTATED    811\n",
      "MUTATED         47\n",
      "Name: FUBP1, dtype: int64\n",
      "NOT_MUTATED    817\n",
      "MUTATED         41\n",
      "Name: RB1, dtype: int64\n",
      "NOT_MUTATED    820\n",
      "MUTATED         38\n",
      "Name: NOTCH1, dtype: int64\n",
      "NOT_MUTATED    829\n",
      "MUTATED         29\n",
      "Name: BCOR, dtype: int64\n",
      "NOT_MUTATED    830\n",
      "MUTATED         28\n",
      "Name: CSMD3, dtype: int64\n",
      "NOT_MUTATED    830\n",
      "MUTATED         28\n",
      "Name: SMARCA4, dtype: int64\n",
      "NOT_MUTATED    831\n",
      "MUTATED         27\n",
      "Name: GRIN2A, dtype: int64\n",
      "NOT_MUTATED    835\n",
      "MUTATED         23\n",
      "Name: IDH2, dtype: int64\n",
      "NOT_MUTATED    835\n",
      "MUTATED         23\n",
      "Name: FAT4, dtype: int64\n",
      "NOT_MUTATED    836\n",
      "MUTATED         22\n",
      "Name: PDGFRA, dtype: int64\n"
     ]
    }
   ],
   "source": [
    "for f in feats:\n",
    "    print(df[f'{f}'].value_counts())"
   ]
  },
  {
   "cell_type": "markdown",
   "id": "39253b72",
   "metadata": {},
   "source": [
    "Все параметры представлены бинарным признаком и могут быть закодированы 0 и 1"
   ]
  },
  {
   "cell_type": "markdown",
   "id": "98e4248b",
   "metadata": {},
   "source": [
    "## Подготовка данных"
   ]
  },
  {
   "cell_type": "code",
   "execution_count": 27,
   "id": "71790e3a",
   "metadata": {},
   "outputs": [],
   "source": [
    "map_gen = {'Male': 0, 'Female': 1}\n",
    "map_diag = {'Glioblastoma': 5,\n",
    "            'Astrocytoma, anaplastic': 4,\n",
    "            'Mixed glioma': 3,\n",
    "            'Oligodendroglioma, NOS': 2,\n",
    "            'Oligodendroglioma, anaplastic': 1,\n",
    "            'Astrocytoma, NOS': 0}\n",
    "map_race = {'white': 0,\n",
    "            'black or african american': 1,\n",
    "            'not reported': 2,\n",
    "            'asian': 3,\n",
    "            'american indian or alaska native': 4}\n",
    "map_feat = {'MUTATED': 0,\n",
    "           'NOT_MUTATED': 1}\n",
    "map_grade = {'LGG': 0,\n",
    "             'GBM': 1}"
   ]
  },
  {
   "cell_type": "code",
   "execution_count": 28,
   "id": "25a0923b",
   "metadata": {},
   "outputs": [],
   "source": [
    "df.Grade = df.Grade.map(map_grade)\n",
    "df.Gender = df.Gender.map(map_gen)\n",
    "df.Primary_Diagnosis = df.Primary_Diagnosis.map(map_diag)\n",
    "df.Race = df.Race.map(map_race)\n",
    "for f in feats:\n",
    "    df[f'{f}'] = df[f'{f}'].map(map_feat)"
   ]
  },
  {
   "cell_type": "code",
   "execution_count": 29,
   "id": "79c72eeb",
   "metadata": {},
   "outputs": [],
   "source": [
    "features_to_drop = ['Project', 'Case_ID', 'Age_at_diagnosis']\n",
    "df.drop(columns=features_to_drop, inplace=True)"
   ]
  },
  {
   "cell_type": "code",
   "execution_count": 30,
   "id": "fb9ef6e5",
   "metadata": {},
   "outputs": [
    {
     "data": {
      "text/html": [
       "<div>\n",
       "<style scoped>\n",
       "    .dataframe tbody tr th:only-of-type {\n",
       "        vertical-align: middle;\n",
       "    }\n",
       "\n",
       "    .dataframe tbody tr th {\n",
       "        vertical-align: top;\n",
       "    }\n",
       "\n",
       "    .dataframe thead th {\n",
       "        text-align: right;\n",
       "    }\n",
       "</style>\n",
       "<table border=\"1\" class=\"dataframe\">\n",
       "  <thead>\n",
       "    <tr style=\"text-align: right;\">\n",
       "      <th></th>\n",
       "      <th>Grade</th>\n",
       "      <th>Gender</th>\n",
       "      <th>Primary_Diagnosis</th>\n",
       "      <th>Race</th>\n",
       "      <th>IDH1</th>\n",
       "      <th>TP53</th>\n",
       "      <th>ATRX</th>\n",
       "      <th>PTEN</th>\n",
       "      <th>EGFR</th>\n",
       "      <th>CIC</th>\n",
       "      <th>...</th>\n",
       "      <th>RB1</th>\n",
       "      <th>NOTCH1</th>\n",
       "      <th>BCOR</th>\n",
       "      <th>CSMD3</th>\n",
       "      <th>SMARCA4</th>\n",
       "      <th>GRIN2A</th>\n",
       "      <th>IDH2</th>\n",
       "      <th>FAT4</th>\n",
       "      <th>PDGFRA</th>\n",
       "      <th>Days_at_diagnosis</th>\n",
       "    </tr>\n",
       "  </thead>\n",
       "  <tbody>\n",
       "    <tr>\n",
       "      <th>0</th>\n",
       "      <td>0</td>\n",
       "      <td>0</td>\n",
       "      <td>2</td>\n",
       "      <td>0</td>\n",
       "      <td>0</td>\n",
       "      <td>1</td>\n",
       "      <td>1</td>\n",
       "      <td>1</td>\n",
       "      <td>1</td>\n",
       "      <td>1</td>\n",
       "      <td>...</td>\n",
       "      <td>1</td>\n",
       "      <td>1</td>\n",
       "      <td>1</td>\n",
       "      <td>1</td>\n",
       "      <td>1</td>\n",
       "      <td>1</td>\n",
       "      <td>1</td>\n",
       "      <td>1</td>\n",
       "      <td>1</td>\n",
       "      <td>18735.0</td>\n",
       "    </tr>\n",
       "    <tr>\n",
       "      <th>1</th>\n",
       "      <td>0</td>\n",
       "      <td>0</td>\n",
       "      <td>3</td>\n",
       "      <td>0</td>\n",
       "      <td>0</td>\n",
       "      <td>1</td>\n",
       "      <td>1</td>\n",
       "      <td>1</td>\n",
       "      <td>1</td>\n",
       "      <td>0</td>\n",
       "      <td>...</td>\n",
       "      <td>1</td>\n",
       "      <td>1</td>\n",
       "      <td>1</td>\n",
       "      <td>1</td>\n",
       "      <td>1</td>\n",
       "      <td>1</td>\n",
       "      <td>1</td>\n",
       "      <td>1</td>\n",
       "      <td>1</td>\n",
       "      <td>14140.0</td>\n",
       "    </tr>\n",
       "    <tr>\n",
       "      <th>2</th>\n",
       "      <td>0</td>\n",
       "      <td>0</td>\n",
       "      <td>0</td>\n",
       "      <td>0</td>\n",
       "      <td>0</td>\n",
       "      <td>0</td>\n",
       "      <td>0</td>\n",
       "      <td>1</td>\n",
       "      <td>1</td>\n",
       "      <td>1</td>\n",
       "      <td>...</td>\n",
       "      <td>1</td>\n",
       "      <td>1</td>\n",
       "      <td>1</td>\n",
       "      <td>1</td>\n",
       "      <td>1</td>\n",
       "      <td>1</td>\n",
       "      <td>1</td>\n",
       "      <td>1</td>\n",
       "      <td>1</td>\n",
       "      <td>12845.0</td>\n",
       "    </tr>\n",
       "    <tr>\n",
       "      <th>3</th>\n",
       "      <td>0</td>\n",
       "      <td>1</td>\n",
       "      <td>4</td>\n",
       "      <td>0</td>\n",
       "      <td>0</td>\n",
       "      <td>0</td>\n",
       "      <td>0</td>\n",
       "      <td>1</td>\n",
       "      <td>1</td>\n",
       "      <td>1</td>\n",
       "      <td>...</td>\n",
       "      <td>1</td>\n",
       "      <td>1</td>\n",
       "      <td>1</td>\n",
       "      <td>1</td>\n",
       "      <td>1</td>\n",
       "      <td>1</td>\n",
       "      <td>1</td>\n",
       "      <td>0</td>\n",
       "      <td>1</td>\n",
       "      <td>11971.0</td>\n",
       "    </tr>\n",
       "    <tr>\n",
       "      <th>4</th>\n",
       "      <td>0</td>\n",
       "      <td>0</td>\n",
       "      <td>4</td>\n",
       "      <td>0</td>\n",
       "      <td>0</td>\n",
       "      <td>0</td>\n",
       "      <td>0</td>\n",
       "      <td>1</td>\n",
       "      <td>1</td>\n",
       "      <td>1</td>\n",
       "      <td>...</td>\n",
       "      <td>1</td>\n",
       "      <td>1</td>\n",
       "      <td>1</td>\n",
       "      <td>1</td>\n",
       "      <td>1</td>\n",
       "      <td>1</td>\n",
       "      <td>1</td>\n",
       "      <td>1</td>\n",
       "      <td>1</td>\n",
       "      <td>11509.0</td>\n",
       "    </tr>\n",
       "  </tbody>\n",
       "</table>\n",
       "<p>5 rows × 25 columns</p>\n",
       "</div>"
      ],
      "text/plain": [
       "   Grade  Gender  Primary_Diagnosis  Race  IDH1  TP53  ATRX  PTEN  EGFR  CIC  \\\n",
       "0      0       0                  2     0     0     1     1     1     1    1   \n",
       "1      0       0                  3     0     0     1     1     1     1    0   \n",
       "2      0       0                  0     0     0     0     0     1     1    1   \n",
       "3      0       1                  4     0     0     0     0     1     1    1   \n",
       "4      0       0                  4     0     0     0     0     1     1    1   \n",
       "\n",
       "   ...  RB1  NOTCH1  BCOR  CSMD3  SMARCA4  GRIN2A  IDH2  FAT4  PDGFRA  \\\n",
       "0  ...    1       1     1      1        1       1     1     1       1   \n",
       "1  ...    1       1     1      1        1       1     1     1       1   \n",
       "2  ...    1       1     1      1        1       1     1     1       1   \n",
       "3  ...    1       1     1      1        1       1     1     0       1   \n",
       "4  ...    1       1     1      1        1       1     1     1       1   \n",
       "\n",
       "   Days_at_diagnosis  \n",
       "0            18735.0  \n",
       "1            14140.0  \n",
       "2            12845.0  \n",
       "3            11971.0  \n",
       "4            11509.0  \n",
       "\n",
       "[5 rows x 25 columns]"
      ]
     },
     "execution_count": 30,
     "metadata": {},
     "output_type": "execute_result"
    }
   ],
   "source": [
    "df.head()"
   ]
  },
  {
   "cell_type": "markdown",
   "id": "aa1c59c2",
   "metadata": {},
   "source": [
    "Столбец с предварительным диагнозом сильно влияет на результат, все модели дают метрику точность = 1.0"
   ]
  },
  {
   "cell_type": "code",
   "execution_count": 31,
   "id": "14e9cd85",
   "metadata": {},
   "outputs": [],
   "source": [
    "X = df.drop(['Grade', 'Primary_Diagnosis'], axis=1)\n",
    "y = df['Grade']\n",
    "feature_names = df.drop('Grade', axis=1).columns.to_list()"
   ]
  },
  {
   "cell_type": "code",
   "execution_count": 32,
   "id": "c1922aca",
   "metadata": {},
   "outputs": [
    {
     "data": {
      "text/plain": [
       "((858, 23), (858,))"
      ]
     },
     "execution_count": 32,
     "metadata": {},
     "output_type": "execute_result"
    }
   ],
   "source": [
    "X.shape, y.shape"
   ]
  },
  {
   "cell_type": "code",
   "execution_count": 33,
   "id": "8315e64f",
   "metadata": {},
   "outputs": [],
   "source": [
    "diag_mean = df.Days_at_diagnosis.mean()\n",
    "diag_std = df.Days_at_diagnosis.std()"
   ]
  },
  {
   "cell_type": "code",
   "execution_count": 34,
   "id": "cf79579d",
   "metadata": {},
   "outputs": [],
   "source": [
    "X_scaled = X.copy()\n",
    "X_scaled['Days_at_diagnosis'] = (X_scaled.Days_at_diagnosis - diag_mean) / diag_std"
   ]
  },
  {
   "cell_type": "code",
   "execution_count": 35,
   "id": "9c2350f8",
   "metadata": {},
   "outputs": [],
   "source": [
    "X_train, X_test, y_train, y_test = train_test_split(X_scaled, y, test_size=0.2)"
   ]
  },
  {
   "cell_type": "code",
   "execution_count": 36,
   "id": "c499c205",
   "metadata": {},
   "outputs": [
    {
     "data": {
      "text/plain": [
       "((686, 23), (172, 23), (686,), (172,))"
      ]
     },
     "execution_count": 36,
     "metadata": {},
     "output_type": "execute_result"
    }
   ],
   "source": [
    "X_train.shape, X_test.shape, y_train.shape, y_test.shape"
   ]
  },
  {
   "cell_type": "markdown",
   "id": "bfae130a",
   "metadata": {},
   "source": [
    "#### Логистическая регрессия"
   ]
  },
  {
   "cell_type": "code",
   "execution_count": 37,
   "id": "efe7dc12",
   "metadata": {},
   "outputs": [],
   "source": [
    "lr = LogisticRegression()"
   ]
  },
  {
   "cell_type": "code",
   "execution_count": 38,
   "id": "13be3472",
   "metadata": {},
   "outputs": [
    {
     "data": {
      "text/plain": [
       "LogisticRegression()"
      ]
     },
     "execution_count": 38,
     "metadata": {},
     "output_type": "execute_result"
    }
   ],
   "source": [
    "lr.fit(X_train, y_train)"
   ]
  },
  {
   "cell_type": "code",
   "execution_count": 39,
   "id": "db27e59f",
   "metadata": {},
   "outputs": [],
   "source": [
    "y_pred = lr.predict(X_test)"
   ]
  },
  {
   "cell_type": "code",
   "execution_count": 40,
   "id": "5187df74",
   "metadata": {},
   "outputs": [
    {
     "data": {
      "text/plain": [
       "array([0, 1, 0, 0, 0, 0, 0, 1, 1, 0, 0, 0, 0, 1, 0, 1, 1, 0, 0, 0, 0, 1,\n",
       "       1, 1, 1, 0, 0, 1, 0, 1, 1, 0, 1, 1, 1, 0, 1, 0, 0, 1, 1, 1, 0, 1,\n",
       "       1, 1, 0, 1, 0, 1, 0, 0, 1, 1, 0, 1, 0, 1, 1, 1, 0, 0, 0, 1, 0, 1,\n",
       "       0, 1, 1, 0, 0, 0, 1, 0, 0, 0, 1, 0, 1, 0, 1, 1, 1, 0, 1, 1, 0, 1,\n",
       "       1, 0, 1, 1, 0, 1, 0, 1, 1, 0, 1, 0, 1, 0, 1, 1, 0, 1, 1, 1, 0, 1,\n",
       "       0, 0, 0, 0, 0, 0, 0, 0, 0, 0, 1, 0, 0, 1, 1, 1, 1, 1, 0, 0, 1, 0,\n",
       "       1, 1, 0, 1, 1, 1, 1, 0, 1, 0, 0, 0, 0, 1, 0, 1, 1, 0, 0, 0, 0, 1,\n",
       "       0, 0, 0, 0, 0, 0, 1, 1, 1, 1, 1, 1, 0, 0, 1, 1, 1, 0], dtype=int64)"
      ]
     },
     "execution_count": 40,
     "metadata": {},
     "output_type": "execute_result"
    }
   ],
   "source": [
    "y_pred"
   ]
  },
  {
   "cell_type": "code",
   "execution_count": 41,
   "id": "b830f9c8",
   "metadata": {},
   "outputs": [
    {
     "data": {
      "text/plain": [
       "0.8662790697674418"
      ]
     },
     "execution_count": 41,
     "metadata": {},
     "output_type": "execute_result"
    }
   ],
   "source": [
    "accuracy_score(y_pred, y_test)"
   ]
  },
  {
   "cell_type": "code",
   "execution_count": 42,
   "id": "139be94a",
   "metadata": {},
   "outputs": [
    {
     "name": "stdout",
     "output_type": "stream",
     "text": [
      "              precision    recall  f1-score   support\n",
      "\n",
      "           0       0.83      0.92      0.87        87\n",
      "           1       0.91      0.81      0.86        85\n",
      "\n",
      "    accuracy                           0.87       172\n",
      "   macro avg       0.87      0.87      0.87       172\n",
      "weighted avg       0.87      0.87      0.87       172\n",
      "\n"
     ]
    }
   ],
   "source": [
    "print(classification_report(y_pred, y_test))"
   ]
  },
  {
   "cell_type": "code",
   "execution_count": 43,
   "id": "71d63cbd",
   "metadata": {},
   "outputs": [
    {
     "data": {
      "text/plain": [
       "array([[-0.18038553,  0.08762495,  3.12800181, -0.66990209,  0.0622025 ,\n",
       "        -0.85572092,  0.31944201,  0.96185332, -0.38757373,  0.1331659 ,\n",
       "         0.78918879, -0.7342998 ,  0.29816371, -0.64552021,  1.46324349,\n",
       "        -0.17928524, -0.31929633,  0.57084469, -1.21558794,  1.40065799,\n",
       "         0.45600931, -0.55411199,  0.75432616]])"
      ]
     },
     "execution_count": 43,
     "metadata": {},
     "output_type": "execute_result"
    }
   ],
   "source": [
    "lr.coef_"
   ]
  },
  {
   "cell_type": "code",
   "execution_count": 44,
   "id": "2916421c",
   "metadata": {},
   "outputs": [
    {
     "data": {
      "text/plain": [
       "array([-3.42734294])"
      ]
     },
     "execution_count": 44,
     "metadata": {},
     "output_type": "execute_result"
    }
   ],
   "source": [
    "lr.intercept_"
   ]
  },
  {
   "cell_type": "code",
   "execution_count": 45,
   "id": "72cbe65d",
   "metadata": {},
   "outputs": [
    {
     "data": {
      "text/plain": [
       "['model_lr.pkl']"
      ]
     },
     "execution_count": 45,
     "metadata": {},
     "output_type": "execute_result"
    }
   ],
   "source": [
    "joblib.dump(lr, \"model_lr.pkl\")"
   ]
  },
  {
   "cell_type": "markdown",
   "id": "fd8a624d",
   "metadata": {},
   "source": [
    "#### Случайный лес"
   ]
  },
  {
   "cell_type": "code",
   "execution_count": 46,
   "id": "9b792053",
   "metadata": {},
   "outputs": [],
   "source": [
    "rf = RandomForestClassifier()"
   ]
  },
  {
   "cell_type": "code",
   "execution_count": 47,
   "id": "4dc0a716",
   "metadata": {},
   "outputs": [
    {
     "data": {
      "text/plain": [
       "RandomForestClassifier()"
      ]
     },
     "execution_count": 47,
     "metadata": {},
     "output_type": "execute_result"
    }
   ],
   "source": [
    "rf.fit(X_train, y_train)"
   ]
  },
  {
   "cell_type": "code",
   "execution_count": 48,
   "id": "f12e815f",
   "metadata": {},
   "outputs": [
    {
     "data": {
      "text/plain": [
       "0.8081395348837209"
      ]
     },
     "execution_count": 48,
     "metadata": {},
     "output_type": "execute_result"
    }
   ],
   "source": [
    "accuracy_score(rf.predict(X_test), y_test)"
   ]
  },
  {
   "cell_type": "code",
   "execution_count": 49,
   "id": "33ca81e7",
   "metadata": {},
   "outputs": [
    {
     "name": "stdout",
     "output_type": "stream",
     "text": [
      "              precision    recall  f1-score   support\n",
      "\n",
      "           0       0.82      0.83      0.83        95\n",
      "           1       0.79      0.78      0.78        77\n",
      "\n",
      "    accuracy                           0.81       172\n",
      "   macro avg       0.81      0.81      0.81       172\n",
      "weighted avg       0.81      0.81      0.81       172\n",
      "\n"
     ]
    }
   ],
   "source": [
    "print(classification_report(rf.predict(X_test), y_test))"
   ]
  },
  {
   "cell_type": "code",
   "execution_count": 50,
   "id": "14233c6e",
   "metadata": {},
   "outputs": [
    {
     "data": {
      "text/plain": [
       "array([0.01987314, 0.03111937, 0.30644929, 0.02363591, 0.04353385,\n",
       "       0.05351485, 0.0287276 , 0.04131092, 0.0136569 , 0.01121249,\n",
       "       0.01565973, 0.01383785, 0.00807794, 0.01599538, 0.00727755,\n",
       "       0.00661893, 0.00402514, 0.00634104, 0.00670117, 0.0178079 ,\n",
       "       0.00410008, 0.00789566, 0.31262732])"
      ]
     },
     "execution_count": 50,
     "metadata": {},
     "output_type": "execute_result"
    }
   ],
   "source": [
    "rf.feature_importances_"
   ]
  },
  {
   "cell_type": "code",
   "execution_count": 51,
   "id": "402f6c81",
   "metadata": {},
   "outputs": [
    {
     "data": {
      "image/png": "[encoded data removed]",
      "text/plain": [
       "<Figure size 1800x500 with 1 Axes>"
      ]
     },
     "metadata": {},
     "output_type": "display_data"
    }
   ],
   "source": [
    "plt.figure(figsize=(18, 5))\n",
    "sb.barplot(x=X_train.columns, y=rf.feature_importances_)\n",
    "plt.xticks(rotation=45);"
   ]
  },
  {
   "cell_type": "code",
   "execution_count": 52,
   "id": "69b1ca19",
   "metadata": {},
   "outputs": [],
   "source": [
    "from sklearn.model_selection import GridSearchCV"
   ]
  },
  {
   "cell_type": "code",
   "execution_count": 53,
   "id": "c9f9cb30",
   "metadata": {},
   "outputs": [],
   "source": [
    "parameters = {'n_estimators': [4, 6, 9, 10, 15], \n",
    "              'max_features': ['log2', 'sqrt','auto'], \n",
    "              'criterion': ['entropy', 'gini'],\n",
    "              'max_depth': [2, 3, 5, 10], \n",
    "              'min_samples_split': [2, 3, 5],\n",
    "              'min_samples_leaf': [1, 5, 8]\n",
    "             }"
   ]
  },
  {
   "cell_type": "code",
   "execution_count": 54,
   "id": "f5123b17",
   "metadata": {},
   "outputs": [],
   "source": [
    "grid = GridSearchCV(rf, parameters)\n",
    "grid = grid.fit(X_train, y_train)"
   ]
  },
  {
   "cell_type": "code",
   "execution_count": 55,
   "id": "b3648bcf",
   "metadata": {},
   "outputs": [],
   "source": [
    "rf = grid.best_estimator_"
   ]
  },
  {
   "cell_type": "code",
   "execution_count": 56,
   "id": "e190a1ca",
   "metadata": {},
   "outputs": [
    {
     "data": {
      "text/plain": [
       "RandomForestClassifier(criterion='entropy', max_depth=3, min_samples_leaf=8,\n",
       "                       min_samples_split=5, n_estimators=6)"
      ]
     },
     "execution_count": 56,
     "metadata": {},
     "output_type": "execute_result"
    }
   ],
   "source": [
    "rf.fit(X_train, y_train)"
   ]
  },
  {
   "cell_type": "code",
   "execution_count": 57,
   "id": "57b39ec3",
   "metadata": {},
   "outputs": [
    {
     "data": {
      "text/plain": [
       "0.7848837209302325"
      ]
     },
     "execution_count": 57,
     "metadata": {},
     "output_type": "execute_result"
    }
   ],
   "source": [
    "accuracy_score(rf.predict(X_test), y_test)"
   ]
  },
  {
   "cell_type": "code",
   "execution_count": 58,
   "id": "4833646a",
   "metadata": {},
   "outputs": [
    {
     "name": "stdout",
     "output_type": "stream",
     "text": [
      "              precision    recall  f1-score   support\n",
      "\n",
      "           0       0.82      0.80      0.81        99\n",
      "           1       0.74      0.77      0.75        73\n",
      "\n",
      "    accuracy                           0.78       172\n",
      "   macro avg       0.78      0.78      0.78       172\n",
      "weighted avg       0.79      0.78      0.79       172\n",
      "\n"
     ]
    }
   ],
   "source": [
    "print(classification_report(rf.predict(X_test), y_test))"
   ]
  },
  {
   "cell_type": "code",
   "execution_count": 59,
   "id": "6dbc6a8c",
   "metadata": {},
   "outputs": [
    {
     "data": {
      "text/plain": [
       "['model_rf.pkl']"
      ]
     },
     "execution_count": 59,
     "metadata": {},
     "output_type": "execute_result"
    }
   ],
   "source": [
    "joblib.dump(rf, \"model_rf.pkl\") "
   ]
  },
  {
   "cell_type": "markdown",
   "id": "dbcda28e",
   "metadata": {},
   "source": [
    "#### lightgbm"
   ]
  },
  {
   "cell_type": "code",
   "execution_count": 60,
   "id": "b1340509",
   "metadata": {},
   "outputs": [],
   "source": [
    "train_dataset = lgb.Dataset(X_train, y_train, feature_name=X_scaled.columns.tolist())\n",
    "test_dataset = lgb.Dataset(X_test, y_test, feature_name=X_scaled.columns.tolist())"
   ]
  },
  {
   "cell_type": "code",
   "execution_count": 61,
   "id": "035f3a29",
   "metadata": {},
   "outputs": [
    {
     "name": "stdout",
     "output_type": "stream",
     "text": [
      "[LightGBM] [Warning] Accuracy may be bad since you didn't explicitly set num_leaves OR 2^max_depth > num_leaves. (num_leaves=31).\n",
      "[LightGBM] [Warning] Accuracy may be bad since you didn't explicitly set num_leaves OR 2^max_depth > num_leaves. (num_leaves=31).\n",
      "[LightGBM] [Info] Number of positive: 284, number of negative: 402\n",
      "[LightGBM] [Warning] Auto-choosing row-wise multi-threading, the overhead of testing was 0.000300 seconds.\n",
      "You can set `force_row_wise=true` to remove the overhead.\n",
      "And if memory is not enough, you can set `force_col_wise=true`.\n",
      "[LightGBM] [Info] Total Bins 270\n",
      "[LightGBM] [Info] Number of data points in the train set: 686, number of used features: 20\n",
      "[LightGBM] [Warning] Accuracy may be bad since you didn't explicitly set num_leaves OR 2^max_depth > num_leaves. (num_leaves=31).\n",
      "[LightGBM] [Info] [binary:BoostFromScore]: pavg=0.413994 -> initscore=-0.347478\n",
      "[LightGBM] [Info] Start training from score -0.347478\n",
      "[LightGBM] [Warning] No further splits with positive gain, best gain: -inf\n",
      "[1]\tvalid_0's binary_logloss: 0.682131\n",
      "[LightGBM] [Warning] No further splits with positive gain, best gain: -inf\n",
      "[2]\tvalid_0's binary_logloss: 0.676413\n",
      "[LightGBM] [Warning] No further splits with positive gain, best gain: -inf\n",
      "[3]\tvalid_0's binary_logloss: 0.670831\n",
      "[LightGBM] [Warning] No further splits with positive gain, best gain: -inf\n",
      "[4]\tvalid_0's binary_logloss: 0.665352\n",
      "[LightGBM] [Warning] No further splits with positive gain, best gain: -inf\n",
      "[5]\tvalid_0's binary_logloss: 0.660001\n",
      "[LightGBM] [Warning] No further splits with positive gain, best gain: -inf\n",
      "[6]\tvalid_0's binary_logloss: 0.654746\n",
      "[LightGBM] [Warning] No further splits with positive gain, best gain: -inf\n",
      "[7]\tvalid_0's binary_logloss: 0.649614\n",
      "[LightGBM] [Warning] No further splits with positive gain, best gain: -inf\n",
      "[8]\tvalid_0's binary_logloss: 0.644571\n",
      "[LightGBM] [Warning] No further splits with positive gain, best gain: -inf\n",
      "[9]\tvalid_0's binary_logloss: 0.639644\n",
      "[LightGBM] [Warning] No further splits with positive gain, best gain: -inf\n",
      "[10]\tvalid_0's binary_logloss: 0.634802\n",
      "[LightGBM] [Warning] No further splits with positive gain, best gain: -inf\n",
      "[11]\tvalid_0's binary_logloss: 0.63007\n",
      "[LightGBM] [Warning] No further splits with positive gain, best gain: -inf\n",
      "[12]\tvalid_0's binary_logloss: 0.625462\n",
      "[LightGBM] [Warning] No further splits with positive gain, best gain: -inf\n",
      "[13]\tvalid_0's binary_logloss: 0.620958\n",
      "[LightGBM] [Warning] No further splits with positive gain, best gain: -inf\n",
      "[14]\tvalid_0's binary_logloss: 0.616528\n",
      "[LightGBM] [Warning] No further splits with positive gain, best gain: -inf\n",
      "[15]\tvalid_0's binary_logloss: 0.612198\n",
      "[LightGBM] [Warning] No further splits with positive gain, best gain: -inf\n",
      "[16]\tvalid_0's binary_logloss: 0.607937\n",
      "[LightGBM] [Warning] No further splits with positive gain, best gain: -inf\n",
      "[17]\tvalid_0's binary_logloss: 0.603771\n",
      "[LightGBM] [Warning] No further splits with positive gain, best gain: -inf\n",
      "[18]\tvalid_0's binary_logloss: 0.599672\n",
      "[LightGBM] [Warning] No further splits with positive gain, best gain: -inf\n",
      "[19]\tvalid_0's binary_logloss: 0.595664\n",
      "[LightGBM] [Warning] No further splits with positive gain, best gain: -inf\n",
      "[20]\tvalid_0's binary_logloss: 0.591717\n",
      "[LightGBM] [Warning] No further splits with positive gain, best gain: -inf\n",
      "[21]\tvalid_0's binary_logloss: 0.587858\n",
      "[LightGBM] [Warning] No further splits with positive gain, best gain: -inf\n",
      "[22]\tvalid_0's binary_logloss: 0.58403\n",
      "[LightGBM] [Warning] No further splits with positive gain, best gain: -inf\n",
      "[23]\tvalid_0's binary_logloss: 0.580297\n",
      "[LightGBM] [Warning] No further splits with positive gain, best gain: -inf\n",
      "[24]\tvalid_0's binary_logloss: 0.57661\n",
      "[LightGBM] [Warning] No further splits with positive gain, best gain: -inf\n",
      "[25]\tvalid_0's binary_logloss: 0.573013\n",
      "[LightGBM] [Warning] No further splits with positive gain, best gain: -inf\n",
      "[26]\tvalid_0's binary_logloss: 0.569465\n",
      "[LightGBM] [Warning] No further splits with positive gain, best gain: -inf\n",
      "[27]\tvalid_0's binary_logloss: 0.56598\n",
      "[LightGBM] [Warning] No further splits with positive gain, best gain: -inf\n",
      "[28]\tvalid_0's binary_logloss: 0.562578\n",
      "[LightGBM] [Warning] No further splits with positive gain, best gain: -inf\n",
      "[29]\tvalid_0's binary_logloss: 0.559218\n",
      "[LightGBM] [Warning] No further splits with positive gain, best gain: -inf\n",
      "[30]\tvalid_0's binary_logloss: 0.555951\n",
      "[LightGBM] [Warning] No further splits with positive gain, best gain: -inf\n",
      "[31]\tvalid_0's binary_logloss: 0.55271\n",
      "[LightGBM] [Warning] No further splits with positive gain, best gain: -inf\n",
      "[32]\tvalid_0's binary_logloss: 0.549542\n",
      "[LightGBM] [Warning] No further splits with positive gain, best gain: -inf\n",
      "[33]\tvalid_0's binary_logloss: 0.546416\n",
      "[LightGBM] [Warning] No further splits with positive gain, best gain: -inf\n",
      "[34]\tvalid_0's binary_logloss: 0.543353\n",
      "[LightGBM] [Warning] No further splits with positive gain, best gain: -inf\n",
      "[35]\tvalid_0's binary_logloss: 0.540344\n",
      "[LightGBM] [Warning] No further splits with positive gain, best gain: -inf\n",
      "[36]\tvalid_0's binary_logloss: 0.537388\n",
      "[LightGBM] [Warning] No further splits with positive gain, best gain: -inf\n",
      "[37]\tvalid_0's binary_logloss: 0.534481\n",
      "[LightGBM] [Warning] No further splits with positive gain, best gain: -inf\n",
      "[38]\tvalid_0's binary_logloss: 0.531634\n",
      "[LightGBM] [Warning] No further splits with positive gain, best gain: -inf\n",
      "[39]\tvalid_0's binary_logloss: 0.528819\n",
      "[LightGBM] [Warning] No further splits with positive gain, best gain: -inf\n",
      "[40]\tvalid_0's binary_logloss: 0.526065\n",
      "[LightGBM] [Warning] No further splits with positive gain, best gain: -inf\n",
      "[41]\tvalid_0's binary_logloss: 0.523348\n",
      "[LightGBM] [Warning] No further splits with positive gain, best gain: -inf\n",
      "[42]\tvalid_0's binary_logloss: 0.520676\n",
      "[LightGBM] [Warning] No further splits with positive gain, best gain: -inf\n",
      "[43]\tvalid_0's binary_logloss: 0.518062\n",
      "[LightGBM] [Warning] No further splits with positive gain, best gain: -inf\n",
      "[44]\tvalid_0's binary_logloss: 0.515406\n",
      "[LightGBM] [Warning] No further splits with positive gain, best gain: -inf\n",
      "[45]\tvalid_0's binary_logloss: 0.512883\n",
      "[LightGBM] [Warning] No further splits with positive gain, best gain: -inf\n",
      "[46]\tvalid_0's binary_logloss: 0.510339\n",
      "[LightGBM] [Warning] No further splits with positive gain, best gain: -inf\n",
      "[47]\tvalid_0's binary_logloss: 0.507882\n",
      "[LightGBM] [Warning] No further splits with positive gain, best gain: -inf\n",
      "[48]\tvalid_0's binary_logloss: 0.505486\n",
      "[LightGBM] [Warning] No further splits with positive gain, best gain: -inf\n",
      "[49]\tvalid_0's binary_logloss: 0.503056\n",
      "[LightGBM] [Warning] No further splits with positive gain, best gain: -inf\n",
      "[50]\tvalid_0's binary_logloss: 0.500667\n",
      "[LightGBM] [Warning] No further splits with positive gain, best gain: -inf\n",
      "[51]\tvalid_0's binary_logloss: 0.498391\n",
      "[LightGBM] [Warning] No further splits with positive gain, best gain: -inf\n",
      "[52]\tvalid_0's binary_logloss: 0.49616\n",
      "[LightGBM] [Warning] No further splits with positive gain, best gain: -inf\n",
      "[53]\tvalid_0's binary_logloss: 0.493874\n",
      "[LightGBM] [Warning] No further splits with positive gain, best gain: -inf\n",
      "[54]\tvalid_0's binary_logloss: 0.491714\n",
      "[LightGBM] [Warning] No further splits with positive gain, best gain: -inf\n",
      "[55]\tvalid_0's binary_logloss: 0.489508\n",
      "[LightGBM] [Warning] No further splits with positive gain, best gain: -inf\n",
      "[56]\tvalid_0's binary_logloss: 0.487384\n",
      "[LightGBM] [Warning] No further splits with positive gain, best gain: -inf\n",
      "[57]\tvalid_0's binary_logloss: 0.485321\n",
      "[LightGBM] [Warning] No further splits with positive gain, best gain: -inf\n",
      "[58]\tvalid_0's binary_logloss: 0.483237\n",
      "[LightGBM] [Warning] No further splits with positive gain, best gain: -inf\n",
      "[59]\tvalid_0's binary_logloss: 0.481226\n",
      "[LightGBM] [Warning] No further splits with positive gain, best gain: -inf\n",
      "[60]\tvalid_0's binary_logloss: 0.479188\n",
      "[LightGBM] [Warning] No further splits with positive gain, best gain: -inf\n",
      "[61]\tvalid_0's binary_logloss: 0.477259\n",
      "[LightGBM] [Warning] No further splits with positive gain, best gain: -inf\n",
      "[62]\tvalid_0's binary_logloss: 0.475319\n",
      "[LightGBM] [Warning] No further splits with positive gain, best gain: -inf\n",
      "[63]\tvalid_0's binary_logloss: 0.473386\n",
      "[LightGBM] [Warning] No further splits with positive gain, best gain: -inf\n",
      "[64]\tvalid_0's binary_logloss: 0.471592\n",
      "[LightGBM] [Warning] No further splits with positive gain, best gain: -inf\n",
      "[65]\tvalid_0's binary_logloss: 0.46971\n",
      "[LightGBM] [Warning] No further splits with positive gain, best gain: -inf\n",
      "[66]\tvalid_0's binary_logloss: 0.467919\n",
      "[LightGBM] [Warning] No further splits with positive gain, best gain: -inf\n",
      "[67]\tvalid_0's binary_logloss: 0.46614\n",
      "[LightGBM] [Warning] No further splits with positive gain, best gain: -inf\n",
      "[68]\tvalid_0's binary_logloss: 0.46442\n",
      "[LightGBM] [Warning] No further splits with positive gain, best gain: -inf\n",
      "[69]\tvalid_0's binary_logloss: 0.462681\n",
      "[LightGBM] [Warning] No further splits with positive gain, best gain: -inf\n",
      "[70]\tvalid_0's binary_logloss: 0.460967\n",
      "[LightGBM] [Warning] No further splits with positive gain, best gain: -inf\n",
      "[71]\tvalid_0's binary_logloss: 0.459309\n",
      "[LightGBM] [Warning] No further splits with positive gain, best gain: -inf\n",
      "[72]\tvalid_0's binary_logloss: 0.457635\n",
      "[LightGBM] [Warning] No further splits with positive gain, best gain: -inf\n",
      "[73]\tvalid_0's binary_logloss: 0.456023\n",
      "[LightGBM] [Warning] No further splits with positive gain, best gain: -inf\n",
      "[74]\tvalid_0's binary_logloss: 0.454428\n",
      "[LightGBM] [Warning] No further splits with positive gain, best gain: -inf\n",
      "[75]\tvalid_0's binary_logloss: 0.452899\n",
      "[LightGBM] [Warning] No further splits with positive gain, best gain: -inf\n",
      "[76]\tvalid_0's binary_logloss: 0.451367\n",
      "[LightGBM] [Warning] No further splits with positive gain, best gain: -inf\n",
      "[77]\tvalid_0's binary_logloss: 0.44988\n",
      "[LightGBM] [Warning] No further splits with positive gain, best gain: -inf\n",
      "[78]\tvalid_0's binary_logloss: 0.448345\n",
      "[LightGBM] [Warning] No further splits with positive gain, best gain: -inf\n",
      "[79]\tvalid_0's binary_logloss: 0.446895\n",
      "[LightGBM] [Warning] No further splits with positive gain, best gain: -inf\n",
      "[80]\tvalid_0's binary_logloss: 0.44546\n",
      "[LightGBM] [Warning] No further splits with positive gain, best gain: -inf\n",
      "[81]\tvalid_0's binary_logloss: 0.444061\n",
      "[LightGBM] [Warning] No further splits with positive gain, best gain: -inf\n",
      "[82]\tvalid_0's binary_logloss: 0.442727\n",
      "[LightGBM] [Warning] No further splits with positive gain, best gain: -inf\n",
      "[83]\tvalid_0's binary_logloss: 0.441432\n",
      "[LightGBM] [Warning] No further splits with positive gain, best gain: -inf\n",
      "[84]\tvalid_0's binary_logloss: 0.440096\n",
      "[LightGBM] [Warning] No further splits with positive gain, best gain: -inf\n",
      "[85]\tvalid_0's binary_logloss: 0.438704\n",
      "[LightGBM] [Warning] No further splits with positive gain, best gain: -inf\n",
      "[86]\tvalid_0's binary_logloss: 0.43743\n",
      "[LightGBM] [Warning] No further splits with positive gain, best gain: -inf\n",
      "[87]\tvalid_0's binary_logloss: 0.436137\n",
      "[LightGBM] [Warning] No further splits with positive gain, best gain: -inf\n",
      "[88]\tvalid_0's binary_logloss: 0.434918\n",
      "[LightGBM] [Warning] No further splits with positive gain, best gain: -inf\n",
      "[89]\tvalid_0's binary_logloss: 0.433724\n",
      "[LightGBM] [Warning] No further splits with positive gain, best gain: -inf\n",
      "[90]\tvalid_0's binary_logloss: 0.432531\n",
      "[LightGBM] [Warning] No further splits with positive gain, best gain: -inf\n",
      "[91]\tvalid_0's binary_logloss: 0.431401\n",
      "[LightGBM] [Warning] No further splits with positive gain, best gain: -inf\n",
      "[92]\tvalid_0's binary_logloss: 0.430295\n",
      "[LightGBM] [Warning] No further splits with positive gain, best gain: -inf\n",
      "[93]\tvalid_0's binary_logloss: 0.429241\n",
      "[LightGBM] [Warning] No further splits with positive gain, best gain: -inf\n",
      "[94]\tvalid_0's binary_logloss: 0.428203\n",
      "[LightGBM] [Warning] No further splits with positive gain, best gain: -inf\n",
      "[95]\tvalid_0's binary_logloss: 0.427261\n",
      "[LightGBM] [Warning] No further splits with positive gain, best gain: -inf\n",
      "[96]\tvalid_0's binary_logloss: 0.426258\n",
      "[LightGBM] [Warning] No further splits with positive gain, best gain: -inf\n",
      "[97]\tvalid_0's binary_logloss: 0.425242\n",
      "[LightGBM] [Warning] No further splits with positive gain, best gain: -inf\n",
      "[98]\tvalid_0's binary_logloss: 0.42435\n",
      "[LightGBM] [Warning] No further splits with positive gain, best gain: -inf\n",
      "[99]\tvalid_0's binary_logloss: 0.423368\n",
      "[LightGBM] [Warning] No further splits with positive gain, best gain: -inf\n",
      "[100]\tvalid_0's binary_logloss: 0.422438\n",
      "[LightGBM] [Warning] No further splits with positive gain, best gain: -inf\n",
      "[101]\tvalid_0's binary_logloss: 0.421595\n",
      "[LightGBM] [Warning] No further splits with positive gain, best gain: -inf\n",
      "[102]\tvalid_0's binary_logloss: 0.420664\n",
      "[LightGBM] [Warning] No further splits with positive gain, best gain: -inf\n",
      "[103]\tvalid_0's binary_logloss: 0.419739\n",
      "[LightGBM] [Warning] No further splits with positive gain, best gain: -inf\n",
      "[104]\tvalid_0's binary_logloss: 0.418875\n",
      "[LightGBM] [Warning] No further splits with positive gain, best gain: -inf\n",
      "[105]\tvalid_0's binary_logloss: 0.4181\n",
      "[LightGBM] [Warning] No further splits with positive gain, best gain: -inf\n",
      "[106]\tvalid_0's binary_logloss: 0.417228\n",
      "[LightGBM] [Warning] No further splits with positive gain, best gain: -inf\n",
      "[107]\tvalid_0's binary_logloss: 0.416362\n",
      "[LightGBM] [Warning] No further splits with positive gain, best gain: -inf\n",
      "[108]\tvalid_0's binary_logloss: 0.41563\n",
      "[LightGBM] [Warning] No further splits with positive gain, best gain: -inf\n",
      "[109]\tvalid_0's binary_logloss: 0.414795\n",
      "[LightGBM] [Warning] No further splits with positive gain, best gain: -inf\n",
      "[110]\tvalid_0's binary_logloss: 0.414016\n",
      "[LightGBM] [Warning] No further splits with positive gain, best gain: -inf\n",
      "[111]\tvalid_0's binary_logloss: 0.413057\n",
      "[LightGBM] [Warning] No further splits with positive gain, best gain: -inf\n",
      "[112]\tvalid_0's binary_logloss: 0.412227\n",
      "[LightGBM] [Warning] No further splits with positive gain, best gain: -inf\n",
      "[113]\tvalid_0's binary_logloss: 0.411387\n",
      "[LightGBM] [Warning] No further splits with positive gain, best gain: -inf\n",
      "[114]\tvalid_0's binary_logloss: 0.410585\n",
      "[LightGBM] [Warning] No further splits with positive gain, best gain: -inf\n",
      "[115]\tvalid_0's binary_logloss: 0.409771\n",
      "[LightGBM] [Warning] No further splits with positive gain, best gain: -inf\n",
      "[116]\tvalid_0's binary_logloss: 0.409055\n",
      "[LightGBM] [Warning] No further splits with positive gain, best gain: -inf\n",
      "[117]\tvalid_0's binary_logloss: 0.408314\n",
      "[LightGBM] [Warning] No further splits with positive gain, best gain: -inf\n",
      "[118]\tvalid_0's binary_logloss: 0.407493\n",
      "[LightGBM] [Warning] No further splits with positive gain, best gain: -inf\n",
      "[119]\tvalid_0's binary_logloss: 0.406733\n",
      "[LightGBM] [Warning] No further splits with positive gain, best gain: -inf\n",
      "[120]\tvalid_0's binary_logloss: 0.405988\n",
      "[LightGBM] [Warning] No further splits with positive gain, best gain: -inf\n",
      "[121]\tvalid_0's binary_logloss: 0.405255\n",
      "[LightGBM] [Warning] No further splits with positive gain, best gain: -inf\n",
      "[122]\tvalid_0's binary_logloss: 0.404585\n",
      "[LightGBM] [Warning] No further splits with positive gain, best gain: -inf\n",
      "[123]\tvalid_0's binary_logloss: 0.403928\n",
      "[LightGBM] [Warning] No further splits with positive gain, best gain: -inf\n",
      "[124]\tvalid_0's binary_logloss: 0.403279\n",
      "[LightGBM] [Warning] No further splits with positive gain, best gain: -inf\n",
      "[125]\tvalid_0's binary_logloss: 0.402597\n",
      "[LightGBM] [Warning] No further splits with positive gain, best gain: -inf\n",
      "[126]\tvalid_0's binary_logloss: 0.401856\n",
      "[LightGBM] [Warning] No further splits with positive gain, best gain: -inf\n",
      "[127]\tvalid_0's binary_logloss: 0.401228\n",
      "[LightGBM] [Warning] No further splits with positive gain, best gain: -inf\n",
      "[128]\tvalid_0's binary_logloss: 0.400495\n",
      "[LightGBM] [Warning] No further splits with positive gain, best gain: -inf\n",
      "[129]\tvalid_0's binary_logloss: 0.399935\n",
      "[LightGBM] [Warning] No further splits with positive gain, best gain: -inf\n",
      "[130]\tvalid_0's binary_logloss: 0.39924\n",
      "[LightGBM] [Warning] No further splits with positive gain, best gain: -inf\n",
      "[131]\tvalid_0's binary_logloss: 0.398609\n",
      "[LightGBM] [Warning] No further splits with positive gain, best gain: -inf\n",
      "[132]\tvalid_0's binary_logloss: 0.397935\n",
      "[LightGBM] [Warning] No further splits with positive gain, best gain: -inf\n",
      "[133]\tvalid_0's binary_logloss: 0.397271\n",
      "[LightGBM] [Warning] No further splits with positive gain, best gain: -inf\n",
      "[134]\tvalid_0's binary_logloss: 0.396619\n",
      "[LightGBM] [Warning] No further splits with positive gain, best gain: -inf\n",
      "[135]\tvalid_0's binary_logloss: 0.396027\n",
      "[LightGBM] [Warning] No further splits with positive gain, best gain: -inf\n",
      "[136]\tvalid_0's binary_logloss: 0.395485\n",
      "[LightGBM] [Warning] No further splits with positive gain, best gain: -inf\n",
      "[137]\tvalid_0's binary_logloss: 0.394865\n",
      "[LightGBM] [Warning] No further splits with positive gain, best gain: -inf\n",
      "[138]\tvalid_0's binary_logloss: 0.394253\n",
      "[LightGBM] [Warning] No further splits with positive gain, best gain: -inf\n",
      "[139]\tvalid_0's binary_logloss: 0.393652\n",
      "[LightGBM] [Warning] No further splits with positive gain, best gain: -inf\n",
      "[140]\tvalid_0's binary_logloss: 0.39315\n",
      "[LightGBM] [Warning] No further splits with positive gain, best gain: -inf\n",
      "[141]\tvalid_0's binary_logloss: 0.392539\n",
      "[LightGBM] [Warning] No further splits with positive gain, best gain: -inf\n",
      "[142]\tvalid_0's binary_logloss: 0.392016\n",
      "[LightGBM] [Warning] No further splits with positive gain, best gain: -inf\n",
      "[143]\tvalid_0's binary_logloss: 0.391408\n",
      "[LightGBM] [Warning] No further splits with positive gain, best gain: -inf\n",
      "[144]\tvalid_0's binary_logloss: 0.390825\n",
      "[LightGBM] [Warning] No further splits with positive gain, best gain: -inf\n",
      "[145]\tvalid_0's binary_logloss: 0.390228\n",
      "[LightGBM] [Warning] No further splits with positive gain, best gain: -inf\n",
      "[146]\tvalid_0's binary_logloss: 0.389704\n",
      "[LightGBM] [Warning] No further splits with positive gain, best gain: -inf\n",
      "[147]\tvalid_0's binary_logloss: 0.389134\n",
      "[LightGBM] [Warning] No further splits with positive gain, best gain: -inf\n",
      "[148]\tvalid_0's binary_logloss: 0.388564\n",
      "[LightGBM] [Warning] No further splits with positive gain, best gain: -inf\n",
      "[149]\tvalid_0's binary_logloss: 0.388197\n",
      "[LightGBM] [Warning] No further splits with positive gain, best gain: -inf\n",
      "[150]\tvalid_0's binary_logloss: 0.387853\n",
      "[LightGBM] [Warning] No further splits with positive gain, best gain: -inf\n",
      "[151]\tvalid_0's binary_logloss: 0.387493\n",
      "[LightGBM] [Warning] No further splits with positive gain, best gain: -inf\n",
      "[152]\tvalid_0's binary_logloss: 0.38722\n",
      "[LightGBM] [Warning] No further splits with positive gain, best gain: -inf\n",
      "[153]\tvalid_0's binary_logloss: 0.386903\n",
      "[LightGBM] [Warning] No further splits with positive gain, best gain: -inf\n",
      "[154]\tvalid_0's binary_logloss: 0.386434\n",
      "[LightGBM] [Warning] No further splits with positive gain, best gain: -inf\n",
      "[155]\tvalid_0's binary_logloss: 0.386125\n",
      "[LightGBM] [Warning] No further splits with positive gain, best gain: -inf\n",
      "[156]\tvalid_0's binary_logloss: 0.385672\n",
      "[LightGBM] [Warning] No further splits with positive gain, best gain: -inf\n",
      "[157]\tvalid_0's binary_logloss: 0.385441\n",
      "[LightGBM] [Warning] No further splits with positive gain, best gain: -inf\n",
      "[158]\tvalid_0's binary_logloss: 0.384966\n",
      "[LightGBM] [Warning] No further splits with positive gain, best gain: -inf\n",
      "[159]\tvalid_0's binary_logloss: 0.384696\n",
      "[LightGBM] [Warning] No further splits with positive gain, best gain: -inf\n",
      "[160]\tvalid_0's binary_logloss: 0.384294\n",
      "[LightGBM] [Warning] No further splits with positive gain, best gain: -inf\n",
      "[161]\tvalid_0's binary_logloss: 0.383975\n",
      "[LightGBM] [Warning] No further splits with positive gain, best gain: -inf\n",
      "[162]\tvalid_0's binary_logloss: 0.383547\n",
      "[LightGBM] [Warning] No further splits with positive gain, best gain: -inf\n",
      "[163]\tvalid_0's binary_logloss: 0.383193\n",
      "[LightGBM] [Warning] No further splits with positive gain, best gain: -inf\n",
      "[164]\tvalid_0's binary_logloss: 0.382911\n",
      "[LightGBM] [Warning] No further splits with positive gain, best gain: -inf\n",
      "[165]\tvalid_0's binary_logloss: 0.382488\n",
      "[LightGBM] [Warning] No further splits with positive gain, best gain: -inf\n",
      "[166]\tvalid_0's binary_logloss: 0.382052\n",
      "[LightGBM] [Warning] No further splits with positive gain, best gain: -inf\n",
      "[167]\tvalid_0's binary_logloss: 0.381739\n",
      "[LightGBM] [Warning] No further splits with positive gain, best gain: -inf\n",
      "[168]\tvalid_0's binary_logloss: 0.381422\n",
      "[LightGBM] [Warning] No further splits with positive gain, best gain: -inf\n",
      "[169]\tvalid_0's binary_logloss: 0.380992\n",
      "[LightGBM] [Warning] No further splits with positive gain, best gain: -inf\n",
      "[170]\tvalid_0's binary_logloss: 0.380585\n",
      "[LightGBM] [Warning] No further splits with positive gain, best gain: -inf\n",
      "[171]\tvalid_0's binary_logloss: 0.380298\n",
      "[LightGBM] [Warning] No further splits with positive gain, best gain: -inf\n",
      "[172]\tvalid_0's binary_logloss: 0.379883\n",
      "[LightGBM] [Warning] No further splits with positive gain, best gain: -inf\n",
      "[173]\tvalid_0's binary_logloss: 0.379457\n",
      "[LightGBM] [Warning] No further splits with positive gain, best gain: -inf\n",
      "[174]\tvalid_0's binary_logloss: 0.379225\n",
      "[LightGBM] [Warning] No further splits with positive gain, best gain: -inf\n",
      "[175]\tvalid_0's binary_logloss: 0.378916\n",
      "[LightGBM] [Warning] No further splits with positive gain, best gain: -inf\n",
      "[176]\tvalid_0's binary_logloss: 0.378508\n",
      "[LightGBM] [Warning] No further splits with positive gain, best gain: -inf\n",
      "[177]\tvalid_0's binary_logloss: 0.378295\n",
      "[LightGBM] [Warning] No further splits with positive gain, best gain: -inf\n",
      "[178]\tvalid_0's binary_logloss: 0.377996\n",
      "[LightGBM] [Warning] No further splits with positive gain, best gain: -inf\n",
      "[179]\tvalid_0's binary_logloss: 0.377681\n",
      "[LightGBM] [Warning] No further splits with positive gain, best gain: -inf\n",
      "[180]\tvalid_0's binary_logloss: 0.377451\n",
      "[LightGBM] [Warning] No further splits with positive gain, best gain: -inf\n",
      "[181]\tvalid_0's binary_logloss: 0.377185\n",
      "[LightGBM] [Warning] No further splits with positive gain, best gain: -inf\n",
      "[182]\tvalid_0's binary_logloss: 0.376856\n",
      "[LightGBM] [Warning] No further splits with positive gain, best gain: -inf\n",
      "[183]\tvalid_0's binary_logloss: 0.376535\n",
      "[LightGBM] [Warning] No further splits with positive gain, best gain: -inf\n",
      "[184]\tvalid_0's binary_logloss: 0.376325\n",
      "[LightGBM] [Warning] No further splits with positive gain, best gain: -inf\n",
      "[185]\tvalid_0's binary_logloss: 0.376113\n",
      "[LightGBM] [Warning] No further splits with positive gain, best gain: -inf\n",
      "[186]\tvalid_0's binary_logloss: 0.375806\n",
      "[LightGBM] [Warning] No further splits with positive gain, best gain: -inf\n",
      "[187]\tvalid_0's binary_logloss: 0.375512\n",
      "[LightGBM] [Warning] No further splits with positive gain, best gain: -inf\n",
      "[188]\tvalid_0's binary_logloss: 0.375327\n",
      "[LightGBM] [Warning] No further splits with positive gain, best gain: -inf\n",
      "[189]\tvalid_0's binary_logloss: 0.375066\n",
      "[LightGBM] [Warning] No further splits with positive gain, best gain: -inf\n",
      "[190]\tvalid_0's binary_logloss: 0.374825\n",
      "[LightGBM] [Warning] No further splits with positive gain, best gain: -inf\n",
      "[191]\tvalid_0's binary_logloss: 0.374548\n",
      "[LightGBM] [Warning] No further splits with positive gain, best gain: -inf\n",
      "[192]\tvalid_0's binary_logloss: 0.374302\n",
      "[LightGBM] [Warning] No further splits with positive gain, best gain: -inf\n",
      "[193]\tvalid_0's binary_logloss: 0.37414\n",
      "[LightGBM] [Warning] No further splits with positive gain, best gain: -inf\n",
      "[194]\tvalid_0's binary_logloss: 0.373882\n",
      "[LightGBM] [Warning] No further splits with positive gain, best gain: -inf\n",
      "[195]\tvalid_0's binary_logloss: 0.373618\n",
      "[LightGBM] [Warning] No further splits with positive gain, best gain: -inf\n",
      "[196]\tvalid_0's binary_logloss: 0.373422\n",
      "[LightGBM] [Warning] No further splits with positive gain, best gain: -inf\n",
      "[197]\tvalid_0's binary_logloss: 0.373175\n",
      "[LightGBM] [Warning] No further splits with positive gain, best gain: -inf\n",
      "[198]\tvalid_0's binary_logloss: 0.372939\n",
      "[LightGBM] [Warning] No further splits with positive gain, best gain: -inf\n",
      "[199]\tvalid_0's binary_logloss: 0.372726\n",
      "[LightGBM] [Warning] No further splits with positive gain, best gain: -inf\n",
      "[200]\tvalid_0's binary_logloss: 0.372492\n"
     ]
    },
    {
     "name": "stderr",
     "output_type": "stream",
     "text": [
      "C:\\Users\\Dasha\\AppData\\Roaming\\Python\\Python39\\site-packages\\lightgbm\\engine.py:177: UserWarning: Found `n_estimators` in params. Will use it instead of argument\n",
      "  _log_warning(f\"Found `{alias}` in params. Will use it instead of argument\")\n"
     ]
    }
   ],
   "source": [
    "booster = lgb.LGBMClassifier(objective=\"binary\", )\n",
    "booster = lgb.train({\"objective\": \"binary\", \"learning_rate\": 0.01, \"max_depth\":12, \"n_estimators\":200},\n",
    "                    train_set=train_dataset, \n",
    "                    valid_sets=(test_dataset,),\n",
    "                    num_boost_round=10)\n"
   ]
  },
  {
   "cell_type": "code",
   "execution_count": 62,
   "id": "30e56da1",
   "metadata": {},
   "outputs": [
    {
     "name": "stdout",
     "output_type": "stream",
     "text": [
      "Test Accuracy: 0.85\n",
      "Train Accuracy: 0.89\n"
     ]
    }
   ],
   "source": [
    "test_preds = booster.predict(X_test)\n",
    "train_preds = booster.predict(X_train)\n",
    "\n",
    "test_preds = [1 if pred > 0.5 else 0 for pred in test_preds]\n",
    "train_preds = [1 if pred > 0.5 else 0 for pred in train_preds]\n",
    "\n",
    "print(\"Test Accuracy: %.2f\"%accuracy_score(y_test, test_preds))\n",
    "print(\"Train Accuracy: %.2f\"%accuracy_score(y_train, train_preds))"
   ]
  },
  {
   "cell_type": "code",
   "execution_count": 63,
   "id": "6d57fffb",
   "metadata": {},
   "outputs": [
    {
     "data": {
      "image/png": "[encoded data removed]",
      "text/plain": [
       "<Figure size 800x600 with 1 Axes>"
      ]
     },
     "metadata": {},
     "output_type": "display_data"
    }
   ],
   "source": [
    "lgb.plot_importance(booster, figsize=(8,6));"
   ]
  },
  {
   "cell_type": "code",
   "execution_count": 64,
   "id": "890a3d65",
   "metadata": {},
   "outputs": [
    {
     "data": {
      "text/plain": [
       "<lightgbm.basic.Booster at 0x1d4af3b8820>"
      ]
     },
     "execution_count": 64,
     "metadata": {},
     "output_type": "execute_result"
    }
   ],
   "source": [
    "booster.save_model(\"lgb.model\")"
   ]
  },
  {
   "cell_type": "code",
   "execution_count": null,
   "id": "d4e785a2",
   "metadata": {},
   "outputs": [],
   "source": []
  }
 ],
 "metadata": {
  "kernelspec": {
   "display_name": "Python 3 (ipykernel)",
   "language": "python",
   "name": "python3"
  },
  "language_info": {
   "codemirror_mode": {
    "name": "ipython",
    "version": 3
   },
   "file_extension": ".py",
   "mimetype": "text/x-python",
   "name": "python",
   "nbconvert_exporter": "python",
   "pygments_lexer": "ipython3",
   "version": "3.9.13"
  }
 },
 "nbformat": 4,
 "nbformat_minor": 5
}
